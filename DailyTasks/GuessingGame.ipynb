{
 "cells": [
  {
   "cell_type": "markdown",
   "id": "4bf8e647-42f7-494d-9c74-9c8d98cbfb5b",
   "metadata": {},
   "source": [
    "# Revision session"
   ]
  },
  {
   "cell_type": "markdown",
   "id": "83078b72-0b99-4c13-80df-1f70e24d0184",
   "metadata": {
    "execution": {
     "iopub.execute_input": "2024-12-05T04:41:23.129492Z",
     "iopub.status.busy": "2024-12-05T04:41:23.129492Z",
     "iopub.status.idle": "2024-12-05T04:41:23.148015Z",
     "shell.execute_reply": "2024-12-05T04:41:23.146005Z",
     "shell.execute_reply.started": "2024-12-05T04:41:23.129492Z"
    }
   },
   "source": [
    "**Q1:** You are designing a text-based adventure game where the player makes choices to decide their fate. The player:\n",
    "\n",
    "- Reaches a crossroad and must choose between \"left\" or \"right.\"\n",
    "- If they choose \"left,\" they must decide to \"swim\" or \"wait\" at a river.\n",
    "  - swim --> you loose,  wait --> that you have choose correct anf you win\n",
    "- If they choose \"right,\" they must decide to \"keep going\" or \"turn back\" in a dark forest.\n",
    "- keep going or turn back --> keep going --> you won and turn back --> you loose\n",
    "- Write a program that prints different outcomes based on the player's choices.\n"
   ]
  },
  {
   "cell_type": "code",
   "execution_count": 3,
   "id": "2732f679-0bdc-45c4-b1a9-5d251c3a111c",
   "metadata": {
    "execution": {
     "iopub.execute_input": "2024-12-05T04:11:14.187953Z",
     "iopub.status.busy": "2024-12-05T04:11:14.186954Z",
     "iopub.status.idle": "2024-12-05T04:11:28.923088Z",
     "shell.execute_reply": "2024-12-05T04:11:28.921075Z",
     "shell.execute_reply.started": "2024-12-05T04:11:14.187953Z"
    }
   },
   "outputs": [
    {
     "name": "stdin",
     "output_type": "stream",
     "text": [
      "please choose between left or right crossroad left\n",
      "please choose whether to wait or swim in river wait\n"
     ]
    },
    {
     "name": "stdout",
     "output_type": "stream",
     "text": [
      "as you are waiting a bear came!\n"
     ]
    }
   ],
   "source": [
    "road = input(\"please choose between left or right crossroad\")\n",
    "if road.lower()=='left':\n",
    "    river = input(\"please choose whether to wait or swim in river\")\n",
    "    if river.lower()=='swim':\n",
    "        print(\"you are swimming in a river please be cautious\")\n",
    "    elif river.lower()=='wait':\n",
    "        print(\"as you are waiting a bear came!\")\n",
    "    else:\n",
    "        print(\"Please choose correctly\")\n",
    "elif road.lower()=='right':\n",
    "    forest = input(\"please choose whether to continue or turnback\")\n",
    "    if forest.lower()=='continue':\n",
    "        print(\"you are alone in a dark forest. Be cautious\")\n",
    "    elif forest.lower()=='turnback':\n",
    "        print(\"you turned back\")\n",
    "    else:\n",
    "        print(\"Please choose correctly\")"
   ]
  },
  {
   "cell_type": "markdown",
   "id": "b3d6e73d-4e50-4307-8d9e-d8424c5abd51",
   "metadata": {},
   "source": [
    "**Q2:** A library wants to calculate fines for late book returns:\n",
    "\n",
    "- If the book is returned on time or earlier, the fine is 0.\n",
    "- For late returns, calculate the fine based on membership:\n",
    "- Premium members are charged 2 per day.\n",
    "- Regular members are charged 5 per day.\n",
    "- If the calculated fine exceeds 50, cap it at 50.\n",
    "\n",
    "Write a program to calculate and display the fine based on:\n",
    "- Days late (days_late).\n",
    "- Member type (premium or regular)."
   ]
  },
  {
   "cell_type": "code",
   "execution_count": 14,
   "id": "791ad462-41fc-4d26-a072-277a91c9c9b6",
   "metadata": {
    "execution": {
     "iopub.execute_input": "2024-12-05T04:38:57.178126Z",
     "iopub.status.busy": "2024-12-05T04:38:57.177124Z",
     "iopub.status.idle": "2024-12-05T04:39:04.509450Z",
     "shell.execute_reply": "2024-12-05T04:39:04.507980Z",
     "shell.execute_reply.started": "2024-12-05T04:38:57.178126Z"
    }
   },
   "outputs": [
    {
     "name": "stdin",
     "output_type": "stream",
     "text": [
      "Enter book return time i.e early/ontime/late late\n",
      "Are you a member? Please enter yes or no no\n",
      "how many days 12\n"
     ]
    },
    {
     "name": "stdout",
     "output_type": "stream",
     "text": [
      "your fine is:50\n"
     ]
    }
   ],
   "source": [
    "r_time = input(\"Enter book return time i.e early/ontime/late\")\n",
    "if (r_time=='early' or r_time=='ontime'):\n",
    "    print(\"The fine is 0\")\n",
    "elif (r_time=='late'):\n",
    "    fine = 0\n",
    "    member_ship = input(\"Are you a member? Please enter yes or no\")\n",
    "    days = int(input(\"how many days\"))\n",
    "    if member_ship=='yes':\n",
    "        for i in range(days):\n",
    "            fine = fine + 2\n",
    "            if fine == 50:\n",
    "                break\n",
    "        print(f\"your fine is:{fine}\")\n",
    "    if member_ship=='no':\n",
    "        for i in range(days):\n",
    "            fine = fine + 5\n",
    "            if fine == 50:\n",
    "                break\n",
    "        print(f\"your fine is:{fine}\")"
   ]
  },
  {
   "cell_type": "markdown",
   "id": "c2235888-684f-49fb-82aa-6918029b68f1",
   "metadata": {},
   "source": [
    "**Q3:** You are building a smart alarm system that determines whether to wake someone based on:\n",
    "\n",
    "- The day of the week (weekday or weekend).\n",
    "- The time of day in 24-hour format (6-9 for weekday mornings, 8-10 for weekend mornings).\n",
    "- Write a program that takes the day and time as inputs and prints:\n",
    "- \"Wake up! It's time to get ready.\"\n",
    "- \"Enjoy sleeping in!\"\n",
    "- Any other appropriate message based on the conditions."
   ]
  },
  {
   "cell_type": "code",
   "execution_count": 2,
   "id": "6097dd97-3122-4607-81f5-39f202e90150",
   "metadata": {
    "execution": {
     "iopub.execute_input": "2024-12-05T10:14:41.427787Z",
     "iopub.status.busy": "2024-12-05T10:14:41.426744Z",
     "iopub.status.idle": "2024-12-05T10:15:13.275594Z",
     "shell.execute_reply": "2024-12-05T10:15:13.274042Z",
     "shell.execute_reply.started": "2024-12-05T10:14:41.427787Z"
    }
   },
   "outputs": [
    {
     "name": "stdin",
     "output_type": "stream",
     "text": [
      "enter the week day(mon/tue/wed/thu/fri/sat/sun): sat\n",
      "Enter time in 24 hour format(ex: 13:45) 9:35\n"
     ]
    },
    {
     "name": "stdout",
     "output_type": "stream",
     "text": [
      "Wake up! It's time to get ready.\n"
     ]
    }
   ],
   "source": [
    "day = input(\"enter the week day(mon/tue/wed/thu/fri/sat/sun):\")\n",
    "time = input(\"Enter time in 24 hour format(ex: 13:45)\")\n",
    "hrs,min = map(int, time.split(\":\"))\n",
    "\n",
    "if (0<=hrs<24 and 0<=min<59):\n",
    "    if (day.strip().lower() in ['mon','tue','wed','thu','fri']):\n",
    "        if (6<=hrs<9):\n",
    "            print(\"Wake up! It's time to get ready.\")\n",
    "        else:\n",
    "            print(\"Enjoy sleeping in!\")       \n",
    "    elif (day.strip().lower() in ['sat','sun']):\n",
    "        if (8<=hrs<10):\n",
    "            print(\"Wake up! It's time to get ready.\")\n",
    "        else:\n",
    "            print(\"Enjoy sleeping in!\")\n",
    "    else:\n",
    "        print(\"Please enter the day in specified format only!\")\n",
    "else:\n",
    "    print(\"Please enter the time in correct format!\")"
   ]
  },
  {
   "cell_type": "markdown",
   "id": "df51116d-19d9-4960-b41b-49419c249c7f",
   "metadata": {},
   "source": [
    "**Q4:** A store offers discounts based on the total value of a shopping cart (cart_value) and membership status (is_member):\n",
    "\n",
    "- For purchases over 100:\n",
    "- Members get a 20% discount.\n",
    "- Non-members get a 10% discount.\n",
    "- For purchases below 100:\n",
    "- Members get a 5% discount.\n",
    "- Non-members get no discount.\n",
    "- Write a program to determine the discount percentage based on the inputs and display it to the user."
   ]
  },
  {
   "cell_type": "code",
   "execution_count": 16,
   "id": "f36424a0-c1ca-4c6e-9b40-7ac90743dd14",
   "metadata": {
    "execution": {
     "iopub.execute_input": "2024-12-05T05:19:03.762024Z",
     "iopub.status.busy": "2024-12-05T05:19:03.761022Z",
     "iopub.status.idle": "2024-12-05T05:19:13.580539Z",
     "shell.execute_reply": "2024-12-05T05:19:13.578332Z",
     "shell.execute_reply.started": "2024-12-05T05:19:03.762024Z"
    }
   },
   "outputs": [
    {
     "name": "stdin",
     "output_type": "stream",
     "text": [
      "Enter total value of shopping cart:  100\n",
      "Are you a member of our shop?(yes/no):  yes\n"
     ]
    },
    {
     "name": "stdout",
     "output_type": "stream",
     "text": [
      "congrats you got 20.0% discount and your total will be 80.0\n"
     ]
    }
   ],
   "source": [
    "cart_value = int(input(\"Enter total value of shopping cart: \"))\n",
    "member_ship = input(\"Are you a member of our shop?(yes/no): \")\n",
    "if member_ship=='yes':\n",
    "    if (0<cart_value<100):\n",
    "        discount = cart_value*0.05\n",
    "        print(f\"congrats you got {discount}% discount and your total will be {cart_value-discount}\")\n",
    "    else:\n",
    "        discount = cart_value*0.2\n",
    "        print(f\"congrats you got {discount}% discount and your total will be {cart_value-discount}\")\n",
    "else:\n",
    "    if (0<cart_value<100):\n",
    "        print(\"To avail 5% discount please join our membership or get 10% by purchase over 100\")\n",
    "    else:\n",
    "        discount = cart_value*0.1\n",
    "        print(f\"congrats you got {discount}% discount and your total will be {cart_value-discount}\")"
   ]
  },
  {
   "cell_type": "markdown",
   "id": "6fa41a89-74c4-4ce3-9b2a-2cdfcd9d8c89",
   "metadata": {
    "execution": {
     "iopub.execute_input": "2024-12-05T05:23:38.226684Z",
     "iopub.status.busy": "2024-12-05T05:23:38.225666Z",
     "iopub.status.idle": "2024-12-05T05:23:38.240653Z",
     "shell.execute_reply": "2024-12-05T05:23:38.238641Z",
     "shell.execute_reply.started": "2024-12-05T05:23:38.226684Z"
    }
   },
   "source": [
    "**Q5:** You are tasked with creating a program to determine job eligibility based on these criteria:\n",
    "\n",
    "- The applicant must have a bachelor's degree (yes/no).\n",
    "- The applicant must have at least 2 years of experience.\n",
    "- The applicant must have skills in Python and SQL (yes/no).\n",
    "- Write a program that asks the user for these inputs and prints if they are \"Eligible to apply\" or \"Not eligible.\""
   ]
  },
  {
   "cell_type": "code",
   "execution_count": 7,
   "id": "d696332a-7a8c-403a-a3ba-f16b554d4f34",
   "metadata": {
    "execution": {
     "iopub.execute_input": "2024-12-05T14:08:15.604378Z",
     "iopub.status.busy": "2024-12-05T14:08:15.596871Z",
     "iopub.status.idle": "2024-12-05T14:08:34.621848Z",
     "shell.execute_reply": "2024-12-05T14:08:34.620328Z",
     "shell.execute_reply.started": "2024-12-05T14:08:15.604378Z"
    }
   },
   "outputs": [
    {
     "name": "stdin",
     "output_type": "stream",
     "text": [
      "Do you have a bachelor's degree (yes/no) yes\n",
      "Enter years of experience: 3\n",
      "Enter number of skills you want to enter 3\n",
      "Enter your skill number 1: Python \n",
      "Enter your skill number 2: sql\n",
      "Enter your skill number 3: excel\n"
     ]
    },
    {
     "name": "stdout",
     "output_type": "stream",
     "text": [
      "Eligible to apply\n"
     ]
    }
   ],
   "source": [
    "degree = input(\"Do you have a bachelor's degree (yes/no)\")\n",
    "if degree.strip().lower()=='yes':\n",
    "    exp = float(input(\"Enter years of experience:\"))\n",
    "    if exp>=2:\n",
    "        num = int(input(\"Enter number of skills you want to enter\"))\n",
    "        skills=[]\n",
    "        for i in range(num):\n",
    "            skill = input(f\"Enter your skill number {i+1}:\")\n",
    "            skills.append(skill.strip().lower())\n",
    "        if ('python' in skills and 'sql' in skills):\n",
    "            print(\"Eligible to apply\")\n",
    "        else:\n",
    "            print(\"Not eligible.You don't have the required skill sets.\")\n",
    "    else:\n",
    "        print(\"Not eligible. Applicant must have atleast 2 years experience.\")\n",
    "else:\n",
    "    print(\"Not eligible. Applicant must have a bachelor's degree.\")"
   ]
  },
  {
   "cell_type": "markdown",
   "id": "1847123c-b4c5-4ae9-92e6-3f398a6c5230",
   "metadata": {},
   "source": [
    "# Task-11"
   ]
  },
  {
   "cell_type": "markdown",
   "id": "42251530-8d74-49f9-adb2-ea18f9883fcd",
   "metadata": {},
   "source": [
    "Write a Python function for a Guessing Game. The computer randomly selects a number between 1 and 100, and the user has to guess it. The game should follow these rules:\n",
    "\n",
    "- The user enters their guess, and the program tells them if their guess is too high or too low compared to the system's number.\n",
    "- Each wrong guess deducts points from a total reward of 10,000 based on the number of attempts (1,000 points are deducted for each extra attempt beyond the first).\n",
    "- The game continues until the user guesses the correct number or the reward becomes zero.\n",
    "- At the end, print:\n",
    "    - The total number of attempts taken.\n",
    "    - The reward earned.\n",
    "    - If the reward becomes zero, display an appropriate message.\n"
   ]
  },
  {
   "cell_type": "code",
   "execution_count": 85,
   "id": "7a0320a2-8c12-4c12-96f9-c6eb0eefd120",
   "metadata": {
    "execution": {
     "iopub.execute_input": "2024-12-05T19:45:12.939726Z",
     "iopub.status.busy": "2024-12-05T19:45:12.939726Z",
     "iopub.status.idle": "2024-12-05T19:45:12.952730Z",
     "shell.execute_reply": "2024-12-05T19:45:12.952730Z",
     "shell.execute_reply.started": "2024-12-05T19:45:12.939726Z"
    }
   },
   "outputs": [],
   "source": [
    "import random\n",
    "class Guessing_Game():\n",
    "    count = 0\n",
    "    def __init__(self):\n",
    "        self.num = random.randint(1,100)\n",
    "    def choose(self,n):\n",
    "        if (Guessing_Game.count<9):\n",
    "            if n<self.num:\n",
    "                Guessing_Game.count += 1\n",
    "                print(\"choose higher\")\n",
    "                return self.choose(int(input()))\n",
    "            elif n>self.num:\n",
    "                Guessing_Game.count += 1\n",
    "                print(\"choose lower\")\n",
    "                return self.choose(int(input()))\n",
    "            elif n==self.num:\n",
    "                print(\"you guessed it\")\n",
    "                print(f\"no of attempts: {Guessing_Game.count}\")\n",
    "                print(f\"Your price is {10000 - Guessing_Game.count*1000}\")\n",
    "                return\n",
    "        else:\n",
    "            print(f\"no of attempts: {Guessing_Game.count}\")\n",
    "            print(\"You have used up all your attempts. The reward became 0\")"
   ]
  },
  {
   "cell_type": "code",
   "execution_count": 86,
   "id": "cec4045f-ca54-4762-ba8d-1bb194a2999d",
   "metadata": {
    "execution": {
     "iopub.execute_input": "2024-12-05T19:45:14.061483Z",
     "iopub.status.busy": "2024-12-05T19:45:14.061483Z",
     "iopub.status.idle": "2024-12-05T19:45:42.200201Z",
     "shell.execute_reply": "2024-12-05T19:45:42.200201Z",
     "shell.execute_reply.started": "2024-12-05T19:45:14.061483Z"
    }
   },
   "outputs": [
    {
     "name": "stdin",
     "output_type": "stream",
     "text": [
      "choose a number (1-100):  44\n"
     ]
    },
    {
     "name": "stdout",
     "output_type": "stream",
     "text": [
      "choose higher\n"
     ]
    },
    {
     "name": "stdin",
     "output_type": "stream",
     "text": [
      " 88\n"
     ]
    },
    {
     "name": "stdout",
     "output_type": "stream",
     "text": [
      "choose lower\n"
     ]
    },
    {
     "name": "stdin",
     "output_type": "stream",
     "text": [
      " 66\n"
     ]
    },
    {
     "name": "stdout",
     "output_type": "stream",
     "text": [
      "choose lower\n"
     ]
    },
    {
     "name": "stdin",
     "output_type": "stream",
     "text": [
      " 55\n"
     ]
    },
    {
     "name": "stdout",
     "output_type": "stream",
     "text": [
      "choose lower\n"
     ]
    },
    {
     "name": "stdin",
     "output_type": "stream",
     "text": [
      " 50\n"
     ]
    },
    {
     "name": "stdout",
     "output_type": "stream",
     "text": [
      "choose higher\n"
     ]
    },
    {
     "name": "stdin",
     "output_type": "stream",
     "text": [
      " 53\n"
     ]
    },
    {
     "name": "stdout",
     "output_type": "stream",
     "text": [
      "you guessed it\n",
      "no of attempts: 5\n",
      "Your price is 5000\n"
     ]
    }
   ],
   "source": [
    "user1 = Guessing_Game()\n",
    "user1.choose(int(input(\"choose a number (1-100): \")))"
   ]
  },
  {
   "cell_type": "code",
   "execution_count": null,
   "id": "215176c9-77b5-4e1d-bfea-7673400bbc73",
   "metadata": {},
   "outputs": [],
   "source": []
  }
 ],
 "metadata": {
  "kernelspec": {
   "display_name": "Python 3 (ipykernel)",
   "language": "python",
   "name": "python3"
  },
  "language_info": {
   "codemirror_mode": {
    "name": "ipython",
    "version": 3
   },
   "file_extension": ".py",
   "mimetype": "text/x-python",
   "name": "python",
   "nbconvert_exporter": "python",
   "pygments_lexer": "ipython3",
   "version": "3.12.4"
  }
 },
 "nbformat": 4,
 "nbformat_minor": 5
}
