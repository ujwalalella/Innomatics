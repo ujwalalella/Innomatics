{
 "cells": [
  {
   "cell_type": "markdown",
   "id": "8f04e608-3019-4df4-9edf-d1ee7986b8e3",
   "metadata": {},
   "source": [
    "**Q1**: What is a set in Python? How is it different from other data structures like lists or tuples? Explain with examples."
   ]
  },
  {
   "cell_type": "markdown",
   "id": "040c54b5-e41c-47bc-ba3a-f032f4bc3f82",
   "metadata": {},
   "source": [
    "A set is an unordered collection of unique, immutable elements.\n",
    "+ It is enclosed in {}\n",
    "+ unordered and non indexed\n",
    "+ Set is mutable\n",
    "  \n",
    "+ The main difference between set and other data structures is that it **doesn't allow duplicates**"
   ]
  },
  {
   "cell_type": "code",
   "execution_count": 2,
   "id": "c615bfde-064d-40af-935a-b3468a1ea309",
   "metadata": {},
   "outputs": [
    {
     "name": "stdout",
     "output_type": "stream",
     "text": [
      "{1, 2, 3}\n"
     ]
    }
   ],
   "source": [
    "set1 = {1,2,3}\n",
    "print(set1)"
   ]
  },
  {
   "cell_type": "markdown",
   "id": "092d3830-8648-402f-8046-2d119225960d",
   "metadata": {},
   "source": [
    "**Q2**: What is the difference between set.pop() and list.pop()? Explain with examples.\n"
   ]
  },
  {
   "cell_type": "markdown",
   "id": "058330db-58a4-4656-bb90-af84c90fd4ae",
   "metadata": {},
   "source": [
    "Both are used to pop or remove an element from list or set but in list a element at specific index will be popped out whereas in set any element can be popped out since sets are unordered"
   ]
  },
  {
   "cell_type": "code",
   "execution_count": 5,
   "id": "53306423-1f19-4a81-9225-5e88f29f3578",
   "metadata": {},
   "outputs": [
    {
     "name": "stdout",
     "output_type": "stream",
     "text": [
      "{2, 3, 4, 5}\n",
      "[1, 2, 3, 4]\n"
     ]
    }
   ],
   "source": [
    "set1 = {1,2,3,4,5}\n",
    "list1 = [1,2,3,4,5]\n",
    "set1.pop()\n",
    "list1.pop() # default value is last element in the list\n",
    "print(set1,list1,sep='\\n')"
   ]
  },
  {
   "cell_type": "markdown",
   "id": "5777a88e-ef95-4d70-9210-033adac398d8",
   "metadata": {},
   "source": [
    "**Q3**: Given the set S = {1, 2, 3, 4, 5, 76, 32, 65}, apply all built-in set functions to this example.\n"
   ]
  },
  {
   "cell_type": "code",
   "execution_count": 6,
   "id": "8e9a4b0c-02c6-491a-90bb-a7dc0234c487",
   "metadata": {},
   "outputs": [
    {
     "name": "stdout",
     "output_type": "stream",
     "text": [
      "['__and__', '__class__', '__class_getitem__', '__contains__', '__delattr__', '__dir__', '__doc__', '__eq__', '__format__', '__ge__', '__getattribute__', '__getstate__', '__gt__', '__hash__', '__iand__', '__init__', '__init_subclass__', '__ior__', '__isub__', '__iter__', '__ixor__', '__le__', '__len__', '__lt__', '__ne__', '__new__', '__or__', '__rand__', '__reduce__', '__reduce_ex__', '__repr__', '__ror__', '__rsub__', '__rxor__', '__setattr__', '__sizeof__', '__str__', '__sub__', '__subclasshook__', '__xor__', 'add', 'clear', 'copy', 'difference', 'difference_update', 'discard', 'intersection', 'intersection_update', 'isdisjoint', 'issubset', 'issuperset', 'pop', 'remove', 'symmetric_difference', 'symmetric_difference_update', 'union', 'update']\n"
     ]
    }
   ],
   "source": [
    "print(dir(set))"
   ]
  },
  {
   "cell_type": "code",
   "execution_count": 40,
   "id": "b44028c0-25f9-4397-b345-149896890da1",
   "metadata": {},
   "outputs": [
    {
     "name": "stdout",
     "output_type": "stream",
     "text": [
      "{32, 1, 2, 3, 4, 5, 65, 76}\n",
      "\n",
      "{32, 1, 2, 3, 4, 5, 65, 76, 'add_element'}\n",
      "\n",
      "Copy:  {32, 1, 2, 3, 4, 5, 65, 76, 'add_element'}\n",
      "\n",
      "difference:  {32, 65, 3, 5, 76, 'add_element'}\n",
      "S after difference:  {32, 1, 2, 3, 4, 5, 65, 76, 'add_element'}\n",
      "\n",
      "S after difference_update:  {32, 3, 5, 65, 76, 'add_element'}\n",
      "\n",
      "discard:  {3, 5, 65, 76, 'add_element'}\n",
      "\n",
      "intersection:  {1}\n",
      "S2 after intersection:  {1, 3, 67, 7, 42}\n",
      "\n",
      "S2 after intersection_update:  {1}\n",
      "\n",
      "True\n",
      "\n",
      "issubset:  True\n",
      "\n",
      "issuperset:  True\n",
      "\n",
      "pop:  3\n",
      "after pop:  {5, 65, 76, 'add_element'}\n",
      "\n",
      "after remove:  {5, 65, 'add_element'}\n",
      "\n",
      "Symmetric difference: {1, 2, 5, 6}\n",
      "\n",
      "Set1 after symmetric_difference_update: {1, 2, 5, 6}\n",
      "\n",
      "Union of sets: {1, 2, 3, 4, 5, 6}\n",
      "\n",
      "Set1 after update: {1, 2, 3, 4, 5, 6}\n",
      "\n",
      "Set1:  set()\n"
     ]
    }
   ],
   "source": [
    "S = {1, 2, 3, 4, 5, 76, 32, 65}\n",
    "print(S,end='\\n\\n')\n",
    "\n",
    "S.add('add_element')\n",
    "print(S,end='\\n\\n')\n",
    "\n",
    "S_copy = S.copy()\n",
    "print('Copy: ',S_copy,end='\\n\\n')\n",
    "\n",
    "S1 = {1,2,56,12,4}\n",
    "print('difference: ',S.difference(S1))\n",
    "print('S after difference: ',S,end='\\n\\n')\n",
    "\n",
    "S.difference_update(S1)\n",
    "print('S after difference_update: ',S,end='\\n\\n')\n",
    "\n",
    "S.discard(32)\n",
    "print('discard: ',S,end='\\n\\n')\n",
    "\n",
    "S2={1,3,7,42,67}\n",
    "print('intersection: ',S2.intersection(S1))\n",
    "print('S2 after intersection: ',S2,end='\\n\\n')\n",
    "\n",
    "S2.intersection_update(S1)\n",
    "print('S2 after intersection_update: ',S2,end='\\n\\n')\n",
    "\n",
    "print(S.isdisjoint(S1),end='\\n\\n')\n",
    "\n",
    "S3 = {1,2}\n",
    "print('issubset: ',S2.issubset(S1),end='\\n\\n')\n",
    "\n",
    "print('issuperset: ',S1.issuperset(S2),end='\\n\\n')\n",
    "\n",
    "print('pop: ',S.pop())\n",
    "print('after pop: ',S,end='\\n\\n')\n",
    "\n",
    "S.remove(76)\n",
    "print('after remove: ',S,end='\\n\\n')\n",
    "\n",
    "set1 = {1, 2, 3, 4}\n",
    "set2 = {3, 4, 5, 6}\n",
    "result = set1.symmetric_difference(set2)\n",
    "print(\"Symmetric difference:\", result,end='\\n\\n')\n",
    "\n",
    "set1.symmetric_difference_update(set2)\n",
    "print(\"Set1 after symmetric_difference_update:\", set1,end='\\n\\n')\n",
    "\n",
    "result = set1.union(set2)\n",
    "print(\"Union of sets:\", result,end='\\n\\n')\n",
    "\n",
    "set1.update(set2)\n",
    "print(\"Set1 after update:\", set1,end='\\n\\n')\n",
    "\n",
    "set1.clear()\n",
    "print(\"Set1: \",set1) # since set1 is empty it will give set() as an output"
   ]
  },
  {
   "cell_type": "markdown",
   "id": "c38221da-43a2-46b3-99bb-199058b516c7",
   "metadata": {},
   "source": [
    "**Q4**: Update the first set with items that don't exist in the second set.\r\n",
    "s1={150,200,400}\r\n",
    "s2={200,750,650}\r\n",
    "Expected output: s1={150,40}\r\n",
    "0}\r\n"
   ]
  },
  {
   "cell_type": "code",
   "execution_count": 48,
   "id": "0c6472fa-61b3-4382-9f85-0029b3b8bc77",
   "metadata": {},
   "outputs": [
    {
     "name": "stdout",
     "output_type": "stream",
     "text": [
      "{400, 150}\n"
     ]
    }
   ],
   "source": [
    "s1={150,200,400} \n",
    "s2={200,750,650}\n",
    "s1.difference_update(s2)\n",
    "print(s1)"
   ]
  },
  {
   "cell_type": "markdown",
   "id": "89b5c437-4348-4032-9fb1-0a17be9b37da",
   "metadata": {},
   "source": [
    "**Q5**:Define a set S = {apple, banana, cherry, orange}. Use Python set methods to add a new fruit 'grape' to S, remove 'banana' from S, and check the length of S."
   ]
  },
  {
   "cell_type": "code",
   "execution_count": 50,
   "id": "a11062cb-db43-4725-9ef0-b54e3f23813d",
   "metadata": {},
   "outputs": [
    {
     "name": "stdout",
     "output_type": "stream",
     "text": [
      "{'apple', 'cherry', 'orange', 'grape'}\n",
      "4\n"
     ]
    }
   ],
   "source": [
    "S = {'apple', 'banana', 'cherry', 'orange'}\n",
    "S.add('grape')\n",
    "S.remove('banana')\n",
    "print(S,len(S),sep='\\n')"
   ]
  },
  {
   "cell_type": "markdown",
   "id": "18242698-75ff-41d2-8616-3c11833c2794",
   "metadata": {},
   "source": [
    "**Q6**: dict = {“name1_marks” : [34,56,87,89], “name2_marks” : [78,98,54,34],  “name3_marks” : [87,65,97,90]}   add the marks   97  in  “name1_marks”.\r\n",
    "Expected output : {“name1_marks” : [34,56,87,89, 97], “name2_marks” : [78,98,54,34],  “name3_marks” : [87,65,97,90]}"
   ]
  },
  {
   "cell_type": "code",
   "execution_count": 1,
   "id": "e29f1c68-3ef9-4120-b6ee-7804f40e9cf3",
   "metadata": {},
   "outputs": [
    {
     "name": "stdout",
     "output_type": "stream",
     "text": [
      "{'name1_marks': [34, 56, 87, 89, 97], 'name2_marks': [78, 98, 54, 34], 'name3_marks': [87, 65, 97, 90]}\n"
     ]
    }
   ],
   "source": [
    "dict1 = {\"name1_marks\" : [34,56,87,89], \"name2_marks\": [78,98,54,34], \"name3_marks\" : [87,65,97,90]}\n",
    "dict1[\"name1_marks\"].append(97)\n",
    "print(dict1)"
   ]
  }
 ],
 "metadata": {
  "kernelspec": {
   "display_name": "Python 3 (ipykernel)",
   "language": "python",
   "name": "python3"
  },
  "language_info": {
   "codemirror_mode": {
    "name": "ipython",
    "version": 3
   },
   "file_extension": ".py",
   "mimetype": "text/x-python",
   "name": "python",
   "nbconvert_exporter": "python",
   "pygments_lexer": "ipython3",
   "version": "3.12.4"
  }
 },
 "nbformat": 4,
 "nbformat_minor": 5
}
