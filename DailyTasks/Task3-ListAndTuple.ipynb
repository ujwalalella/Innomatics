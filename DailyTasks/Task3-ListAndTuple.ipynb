{
 "cells": [
  {
   "cell_type": "markdown",
   "id": "27b426f8-1559-4989-84f1-bb8f4bc11f96",
   "metadata": {},
   "source": [
    "**Q1**: Explain the properties of list and tuple in the markdown cell."
   ]
  },
  {
   "cell_type": "markdown",
   "id": "150e95f2-56f3-4bc0-af7f-0b653b880cf4",
   "metadata": {},
   "source": [
    "**List**\n",
    "+ List are mutable\n",
    "+ Lists are ordered and indexed\n",
    "+ Duplicates are allowed in a list\n",
    "+ written with []\n",
    "\n",
    "**Tuple**\n",
    "+ Tuples are immutable\n",
    "+ tuples are ordered and indexed\n",
    "+ Duplicates are allowed\n",
    "+ written with () or we can also create directly without Parenthesis"
   ]
  },
  {
   "cell_type": "markdown",
   "id": "a6bb39a8-4d89-4202-ae99-cda993bbc71b",
   "metadata": {},
   "source": [
    "**Q2**: Create a list containing the numbers 1 to 5.\n"
   ]
  },
  {
   "cell_type": "code",
   "execution_count": 1,
   "id": "2519c97e-5e75-4994-b766-e9d50ac949f4",
   "metadata": {},
   "outputs": [
    {
     "name": "stdout",
     "output_type": "stream",
     "text": [
      "[1, 2, 3, 4, 5]\n"
     ]
    }
   ],
   "source": [
    "list1 = [1,2,3,4,5]\n",
    "print(list1)"
   ]
  },
  {
   "cell_type": "markdown",
   "id": "81855807-3a23-47b6-bdda-884451cfac22",
   "metadata": {},
   "source": [
    "**Q3**: Access the third element of the list [10, 20, 30, 40, 50].\n"
   ]
  },
  {
   "cell_type": "code",
   "execution_count": 2,
   "id": "10646d20-e00f-467c-88e2-fe8d97419ac9",
   "metadata": {},
   "outputs": [
    {
     "data": {
      "text/plain": [
       "30"
      ]
     },
     "execution_count": 2,
     "metadata": {},
     "output_type": "execute_result"
    }
   ],
   "source": [
    "list2 = [10, 20, 30, 40, 50]\n",
    "list2[2]"
   ]
  },
  {
   "cell_type": "markdown",
   "id": "883f9884-1487-46ec-baec-de5c7afcd101",
   "metadata": {},
   "source": [
    "**Q4**: Change the second element of the list [1, 2, 3, 4, 5] to 10"
   ]
  },
  {
   "cell_type": "code",
   "execution_count": 3,
   "id": "0d6320b8-36d3-4aa3-b339-a779d212a57f",
   "metadata": {},
   "outputs": [
    {
     "name": "stdout",
     "output_type": "stream",
     "text": [
      "[1, 2, 3, 4, 5]\n",
      "[1, 10, 3, 4, 5]\n"
     ]
    }
   ],
   "source": [
    "print(list1)\n",
    "list1[1]=10\n",
    "print(list1)"
   ]
  },
  {
   "cell_type": "markdown",
   "id": "9a9144fe-cc82-4bb7-a9da-abd2d759ddf0",
   "metadata": {},
   "source": [
    "**Q5**: Add the element 6 to the end of the list [1, 2, 3, 4, 5]."
   ]
  },
  {
   "cell_type": "code",
   "execution_count": 7,
   "id": "9e8cb52f-33a1-4df4-b333-e57d6b73ef4b",
   "metadata": {},
   "outputs": [
    {
     "name": "stdout",
     "output_type": "stream",
     "text": [
      "[1, 2, 3, 4, 5]\n",
      "[1, 2, 3, 4, 5, 6]\n"
     ]
    }
   ],
   "source": [
    "list1 = [1,2,3,4,5]\n",
    "print(list1)\n",
    "list1.append(6)\n",
    "print(list1)"
   ]
  },
  {
   "cell_type": "markdown",
   "id": "5b1cf638-992e-43e7-afef-aa903de96e54",
   "metadata": {},
   "source": [
    "**Q6**: Concatenate the lists [1, 2, 3] and [4, 5, 6]."
   ]
  },
  {
   "cell_type": "code",
   "execution_count": 12,
   "id": "54faf1b3-59e8-48a3-bfce-498d9125cda1",
   "metadata": {},
   "outputs": [
    {
     "name": "stdout",
     "output_type": "stream",
     "text": [
      "[1, 2, 3] [4, 5, 6]\n",
      "[1, 2, 3, 4, 5, 6]\n"
     ]
    }
   ],
   "source": [
    "list1 = [1, 2, 3] \n",
    "list2 = [4, 5, 6]\n",
    "print(list1 , list2)\n",
    "list3 = list1 + list2\n",
    "print(list3)"
   ]
  },
  {
   "cell_type": "markdown",
   "id": "77bfd8e6-4840-48df-bbcd-b989df47933a",
   "metadata": {},
   "source": [
    "**Q7**: Create a tuple containing the strings \"apple\", \"banana\", and \"cherry\"."
   ]
  },
  {
   "cell_type": "code",
   "execution_count": 13,
   "id": "a925b945-517e-41b6-8012-7b2823e4d331",
   "metadata": {},
   "outputs": [
    {
     "name": "stdout",
     "output_type": "stream",
     "text": [
      "('apple', 'banana', 'cherry')\n"
     ]
    }
   ],
   "source": [
    "tup1 = \"apple\",\"banana\",\"cherry\"\n",
    "print(tup1)"
   ]
  },
  {
   "cell_type": "markdown",
   "id": "50e44e62-1a8e-480c-8dd0-dce67d9df96a",
   "metadata": {},
   "source": [
    "**Q8**: Access the first element of the tuple (\"apple\", \"banana\", \"cherry\")."
   ]
  },
  {
   "cell_type": "code",
   "execution_count": 14,
   "id": "da0bb2b5-e587-42e1-a8a7-182d4482ddd7",
   "metadata": {},
   "outputs": [
    {
     "data": {
      "text/plain": [
       "'apple'"
      ]
     },
     "execution_count": 14,
     "metadata": {},
     "output_type": "execute_result"
    }
   ],
   "source": [
    "tup1[0]"
   ]
  },
  {
   "cell_type": "markdown",
   "id": "1ec17889-e797-41aa-9c4b-8451b878a038",
   "metadata": {},
   "source": [
    "**Q9** : Check if the number 4 is in the list [1, 2, 3, 4, 5]."
   ]
  },
  {
   "cell_type": "code",
   "execution_count": 15,
   "id": "5f3125e8-a2e9-42e3-ac76-517f83e41efe",
   "metadata": {},
   "outputs": [
    {
     "data": {
      "text/plain": [
       "True"
      ]
     },
     "execution_count": 15,
     "metadata": {},
     "output_type": "execute_result"
    }
   ],
   "source": [
    "list4 = [1, 2, 3, 4, 5]\n",
    "4 in list4"
   ]
  },
  {
   "cell_type": "markdown",
   "id": "2be4135b-7e83-485f-a386-335f4e4e4b22",
   "metadata": {},
   "source": [
    "**Q10**: Find the length of the list [10, 20, 30, 40, 50]."
   ]
  },
  {
   "cell_type": "code",
   "execution_count": 16,
   "id": "e90078c0-85b6-4802-9bcb-1f19b96988ae",
   "metadata": {},
   "outputs": [
    {
     "data": {
      "text/plain": [
       "5"
      ]
     },
     "execution_count": 16,
     "metadata": {},
     "output_type": "execute_result"
    }
   ],
   "source": [
    "list5 = [10, 20, 30, 40, 50]\n",
    "len(list5)"
   ]
  },
  {
   "cell_type": "markdown",
   "id": "4126f8bf-fc77-48ca-8c03-69838e4019ff",
   "metadata": {},
   "source": [
    "**Q11**: Slice the list [10, 20, 30, 40, 50] to get the sublist [20, 30, 40]"
   ]
  },
  {
   "cell_type": "code",
   "execution_count": 19,
   "id": "d7e248e4-a83b-49b9-b2fd-583d182e9233",
   "metadata": {},
   "outputs": [
    {
     "name": "stdout",
     "output_type": "stream",
     "text": [
      "[20, 30, 40]\n"
     ]
    }
   ],
   "source": [
    "list5 = [10, 20, 30, 40, 50]\n",
    "print(list5[1:4])"
   ]
  },
  {
   "cell_type": "markdown",
   "id": "f42638f1-8c4e-40df-9b17-243f0a105a94",
   "metadata": {},
   "source": [
    "**Q12**: Unpack the tuple (10, 20, 30) into three variables."
   ]
  },
  {
   "cell_type": "code",
   "execution_count": 23,
   "id": "9773ab04-5587-4aba-aa49-d3139304bab7",
   "metadata": {},
   "outputs": [
    {
     "name": "stdout",
     "output_type": "stream",
     "text": [
      "10\n",
      "20\n",
      "30\n"
     ]
    }
   ],
   "source": [
    "tup2 = 10,20,30\n",
    "a,b,c = tup2\n",
    "print(a,b,c,sep='\\n')"
   ]
  },
  {
   "cell_type": "markdown",
   "id": "bf72efa3-984b-4784-b3fa-75b8a1ef8525",
   "metadata": {},
   "source": [
    "**Q13**: Count the number of times the element 2 appears in the list [1, 2, 2, 3, 4, 2,5]"
   ]
  },
  {
   "cell_type": "code",
   "execution_count": 24,
   "id": "b22e72ea-4e28-4990-99a0-53b95576be2f",
   "metadata": {},
   "outputs": [
    {
     "data": {
      "text/plain": [
       "3"
      ]
     },
     "execution_count": 24,
     "metadata": {},
     "output_type": "execute_result"
    }
   ],
   "source": [
    "list6 = [1, 2, 2, 3, 4, 2,5]\n",
    "list6.count(2)"
   ]
  },
  {
   "cell_type": "markdown",
   "id": "17301144-bb86-4896-8104-318d5d337a84",
   "metadata": {},
   "source": [
    "**Q14**: Find the maximum element in the list [1, 2, 3, 4, 5]."
   ]
  },
  {
   "cell_type": "code",
   "execution_count": 27,
   "id": "cbd85728-7ef0-45ae-b593-0506f598b321",
   "metadata": {},
   "outputs": [
    {
     "name": "stdout",
     "output_type": "stream",
     "text": [
      "5\n"
     ]
    }
   ],
   "source": [
    "list7 = [1, 2, 3, 4, 5]\n",
    "print(max(list7))"
   ]
  },
  {
   "cell_type": "markdown",
   "id": "2d4cf71f-4949-4234-b9ae-7e0c12378c25",
   "metadata": {},
   "source": [
    "**Q15**: Convert the list [1, 2, 3, 4, 5] to a tuple"
   ]
  },
  {
   "cell_type": "code",
   "execution_count": 28,
   "id": "a6119267-492a-4426-aa83-685c489f3be5",
   "metadata": {},
   "outputs": [
    {
     "name": "stdout",
     "output_type": "stream",
     "text": [
      "[1, 2, 3, 4, 5]\n",
      "(1, 2, 3, 4, 5)\n"
     ]
    }
   ],
   "source": [
    "list7 = [1,2,3,4,5]\n",
    "print(list7)\n",
    "tup1 = tuple(list7)\n",
    "print(tup1)"
   ]
  },
  {
   "cell_type": "markdown",
   "id": "5cb31358-92d2-4a04-9d69-8381d90e0ea1",
   "metadata": {},
   "source": [
    "**Q16**: Extend the list [1, 2, 3] with elements from the list [4, 5, 6]."
   ]
  },
  {
   "cell_type": "code",
   "execution_count": 30,
   "id": "209058af-d0e5-48ba-a741-28d2830e2314",
   "metadata": {},
   "outputs": [
    {
     "name": "stdout",
     "output_type": "stream",
     "text": [
      "[1, 2, 3, 4, 5, 6]\n"
     ]
    }
   ],
   "source": [
    "list1 = [1,2,3]\n",
    "list2 = [4,5,6]\n",
    "list1.extend(list2)\n",
    "print(list1)"
   ]
  },
  {
   "cell_type": "markdown",
   "id": "a6964ca0-0ad1-4a4e-a32b-8cb3ec2ee2c4",
   "metadata": {},
   "source": [
    "**Q17**: Reverse the list [1, 2, 3, 4, 5]."
   ]
  },
  {
   "cell_type": "code",
   "execution_count": 31,
   "id": "c3dfb46c-a069-4f0f-87f3-b0b7c447d48f",
   "metadata": {},
   "outputs": [
    {
     "name": "stdout",
     "output_type": "stream",
     "text": [
      "[5, 4, 3, 2, 1]\n"
     ]
    }
   ],
   "source": [
    "list2 = [1, 2, 3, 4, 5]\n",
    "list2 = list2[::-1]\n",
    "print(list2)"
   ]
  },
  {
   "cell_type": "markdown",
   "id": "8a0907bb-b414-48b5-81d5-8f519f6865d2",
   "metadata": {},
   "source": [
    "**Q18**: Access the element 3 in the nested list [[1, 2], [3, 4], [5, 6]]."
   ]
  },
  {
   "cell_type": "code",
   "execution_count": 32,
   "id": "915f3d00-ea43-45e4-ab5b-05995acebd7d",
   "metadata": {},
   "outputs": [
    {
     "name": "stdout",
     "output_type": "stream",
     "text": [
      "3\n"
     ]
    }
   ],
   "source": [
    "list3 = [[1, 2], [3, 4], [5, 6]]\n",
    "print(list3[1][0])"
   ]
  },
  {
   "cell_type": "markdown",
   "id": "cc099b0f-8a07-4a95-89e8-7ecee33104f3",
   "metadata": {},
   "source": [
    "**Q19**: Remove the element 4 from the list [1, 2, 3, 4, 5]."
   ]
  },
  {
   "cell_type": "code",
   "execution_count": 34,
   "id": "92f3b581-4ac7-48f5-82d2-8352095e58a7",
   "metadata": {},
   "outputs": [
    {
     "name": "stdout",
     "output_type": "stream",
     "text": [
      "[1, 2, 3, 5]\n"
     ]
    }
   ],
   "source": [
    "list2 = [1, 2, 3, 4, 5]\n",
    "list2.remove(4)\n",
    "print(list2)"
   ]
  },
  {
   "cell_type": "markdown",
   "id": "dca344f8-a8f3-4883-95eb-7764744173d5",
   "metadata": {},
   "source": [
    "**Q20**: Convert the tuple (1, 2, 3, 4, 5) to a list."
   ]
  },
  {
   "cell_type": "code",
   "execution_count": 35,
   "id": "fb884ec9-f88f-4ca9-8e87-fb5dcf94a74e",
   "metadata": {},
   "outputs": [
    {
     "data": {
      "text/plain": [
       "[1, 2, 3, 4, 5]"
      ]
     },
     "execution_count": 35,
     "metadata": {},
     "output_type": "execute_result"
    }
   ],
   "source": [
    "tup1 = 1,2,3,4,5\n",
    "list1 = list(tup1)\n",
    "list1"
   ]
  },
  {
   "cell_type": "markdown",
   "id": "715c85ab-6fd1-4c66-b4fa-91c18c38ad7b",
   "metadata": {},
   "source": [
    "**Q21:** Find the index of the element 3 in the list [1, 2, 3, 4, 5]."
   ]
  },
  {
   "cell_type": "code",
   "execution_count": 36,
   "id": "b02e72c1-13f8-4bbc-bfec-1b517b41e362",
   "metadata": {},
   "outputs": [
    {
     "data": {
      "text/plain": [
       "2"
      ]
     },
     "execution_count": 36,
     "metadata": {},
     "output_type": "execute_result"
    }
   ],
   "source": [
    "list1 = [1, 2, 3, 4, 5]\n",
    "list1.index(3)"
   ]
  },
  {
   "cell_type": "markdown",
   "id": "a5c11951-e5fa-4331-8a08-aed49c389c83",
   "metadata": {},
   "source": [
    "**Q22**: Explain why the following operation fails: t = (1, 2, 3); t[0] = 0."
   ]
  },
  {
   "cell_type": "markdown",
   "id": "105a2c55-05a5-4987-8067-f8486e3888ca",
   "metadata": {},
   "source": [
    "In the second step we are trying to assign 0 as the first element in t tuple. Since, tuple is immutable we can't change already existing tuple."
   ]
  },
  {
   "cell_type": "markdown",
   "id": "384ac842-afb2-4998-9ba5-25dca297f4c5",
   "metadata": {
    "scrolled": true
   },
   "source": [
    "**Q23**: You have a list of your favorite Marvel superheroes.\n",
    "heroes=['spider man','thor','hulk','iron man','captain america']  Using this list,\n",
    "+ find Length of the list\n"
   ]
  },
  {
   "cell_type": "code",
   "execution_count": 90,
   "id": "7c53f4d6-4f34-429a-a97b-bd411a301cb3",
   "metadata": {},
   "outputs": [
    {
     "data": {
      "text/plain": [
       "5"
      ]
     },
     "execution_count": 90,
     "metadata": {},
     "output_type": "execute_result"
    }
   ],
   "source": [
    "heroes=['spider man','thor','hulk','iron man','captain america']\n",
    "len(heroes)"
   ]
  },
  {
   "cell_type": "markdown",
   "id": "793c474e-6725-4a78-bb77-baa5488a0867",
   "metadata": {},
   "source": [
    "+ Add 'black panther' at the end of this list."
   ]
  },
  {
   "cell_type": "code",
   "execution_count": 91,
   "id": "38c70e64-6ee4-4e35-833c-8066bbf09162",
   "metadata": {},
   "outputs": [
    {
     "name": "stdout",
     "output_type": "stream",
     "text": [
      "['spider man', 'thor', 'hulk', 'iron man', 'captain america', 'black panther']\n"
     ]
    }
   ],
   "source": [
    "heroes.append('black panther')\n",
    "print(heroes)"
   ]
  },
  {
   "cell_type": "markdown",
   "id": "051a35a8-7747-436b-8c5c-a00ce2aa1662",
   "metadata": {},
   "source": [
    "+ You realize that you need to add 'black panther' after 'hulk', so remove it from the list first and then add it after 'hulk'."
   ]
  },
  {
   "cell_type": "code",
   "execution_count": 92,
   "id": "e464822f-ca8f-4084-9bae-25742e04f309",
   "metadata": {},
   "outputs": [
    {
     "name": "stdout",
     "output_type": "stream",
     "text": [
      "['spider man', 'thor', 'hulk', 'black panther', 'iron man', 'captain america']\n"
     ]
    }
   ],
   "source": [
    "heroes.remove('black panther')\n",
    "heroes.insert(3,'black panther')\n",
    "print(heroes)"
   ]
  },
  {
   "cell_type": "markdown",
   "id": "d612db97-314f-4cca-af17-8d3592a7989d",
   "metadata": {},
   "source": [
    "+ Now you don't like thor and hulk because they get angry easily 🙂. So you want to remove thor and hulk from the list and replace them with Doctor Strange (because he is cool).Do that with one line of code.\n"
   ]
  },
  {
   "cell_type": "code",
   "execution_count": 93,
   "id": "e2f681a7-4685-4ddd-b10a-26506d7a36b8",
   "metadata": {},
   "outputs": [
    {
     "name": "stdout",
     "output_type": "stream",
     "text": [
      "['spider man', 'Doctor Stramge', 'black panther', 'iron man', 'captain america']\n"
     ]
    }
   ],
   "source": [
    "heroes[1:3] = ['Doctor Stramge']\n",
    "print(heroes)"
   ]
  },
  {
   "cell_type": "markdown",
   "id": "918c4871-aded-43fd-ba9c-c051d46963e3",
   "metadata": {},
   "source": [
    "+ Sort the list in alphabetical order."
   ]
  },
  {
   "cell_type": "code",
   "execution_count": 94,
   "id": "b67b2383-8ea6-4213-af3b-ca205ea80881",
   "metadata": {},
   "outputs": [
    {
     "name": "stdout",
     "output_type": "stream",
     "text": [
      "['Doctor Stramge', 'black panther', 'captain america', 'iron man', 'spider man']\n"
     ]
    }
   ],
   "source": [
    "heroes.sort()\n",
    "print(heroes)"
   ]
  },
  {
   "cell_type": "markdown",
   "id": "5bc3b9f3-9cfb-41dd-8222-9715b30f4a1e",
   "metadata": {},
   "source": [
    "**Q24**: Write a program to add item 7000 after 6000 in the following Python List:\r\n",
    "\tlist1 = [10, 20, [300, 400, [5000, 6000], 500], 30, 40\r\n"
   ]
  },
  {
   "cell_type": "code",
   "execution_count": 98,
   "id": "b28d5d0a-b482-4777-8f9d-4521e036b04a",
   "metadata": {},
   "outputs": [
    {
     "name": "stdout",
     "output_type": "stream",
     "text": [
      "[10, 20, [300, 400, [5000, 6000, 7000], 500], 30, 40]\n"
     ]
    }
   ],
   "source": [
    "list1 = [10, 20, [300, 400, [5000, 6000], 500], 30, 40]\n",
    "list1[2][2].append(7000)\n",
    "print(list1)"
   ]
  }
 ],
 "metadata": {
  "kernelspec": {
   "display_name": "Python 3 (ipykernel)",
   "language": "python",
   "name": "python3"
  },
  "language_info": {
   "codemirror_mode": {
    "name": "ipython",
    "version": 3
   },
   "file_extension": ".py",
   "mimetype": "text/x-python",
   "name": "python",
   "nbconvert_exporter": "python",
   "pygments_lexer": "ipython3",
   "version": "3.12.4"
  }
 },
 "nbformat": 4,
 "nbformat_minor": 5
}
