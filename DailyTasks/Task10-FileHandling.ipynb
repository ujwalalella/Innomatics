{
 "cells": [
  {
   "cell_type": "markdown",
   "id": "9c6e5e10-4943-4d4e-925c-9c121d054779",
   "metadata": {},
   "source": [
    "**Q1:**\n",
    "1. Create a text file named \"sample.txt\" with the content \"Hello, File Handling!\". Write a Python program to open the file, read its content, and print       it. Now, count the number of words in the file. Print the word count.\r\n"
   ]
  },
  {
   "cell_type": "code",
   "execution_count": 18,
   "id": "f7cefa88-5ed7-4b4e-8d54-3a93991c4f04",
   "metadata": {
    "execution": {
     "iopub.execute_input": "2024-12-04T12:51:06.362634Z",
     "iopub.status.busy": "2024-12-04T12:51:06.354895Z",
     "iopub.status.idle": "2024-12-04T12:51:06.371397Z",
     "shell.execute_reply": "2024-12-04T12:51:06.371397Z",
     "shell.execute_reply.started": "2024-12-04T12:51:06.362417Z"
    }
   },
   "outputs": [],
   "source": [
    "filepath='C:\\\\Users\\\\91630\\\\Innomatics-DA\\\\00-Assignments_and_Tasks\\\\Tasks\\\\Task10\\\\sample.txt'\n",
    "str = \"Hello, File Handling!\"\n",
    "fo = open(filepath, mode = 'w')\n",
    "fo.write(str)\n",
    "fo.close()"
   ]
  },
  {
   "cell_type": "code",
   "execution_count": 19,
   "id": "baf70a38-fd84-4b90-adc6-cf102bc0c827",
   "metadata": {
    "execution": {
     "iopub.execute_input": "2024-12-04T12:51:07.101545Z",
     "iopub.status.busy": "2024-12-04T12:51:07.101545Z",
     "iopub.status.idle": "2024-12-04T12:51:07.115320Z",
     "shell.execute_reply": "2024-12-04T12:51:07.112632Z",
     "shell.execute_reply.started": "2024-12-04T12:51:07.101545Z"
    }
   },
   "outputs": [
    {
     "name": "stdout",
     "output_type": "stream",
     "text": [
      "Content in the file is: 'Hello, File Handling!', and the word count is: 3\n"
     ]
    }
   ],
   "source": [
    "fo = open(filepath)\n",
    "content = fo.read()\n",
    "words = content.split()\n",
    "word_count = len(words)\n",
    "print(f\"Content in the file is: '{content}', and the word count is: {word_count}\")\n",
    "fo.close()"
   ]
  },
  {
   "cell_type": "markdown",
   "id": "7368039f-9cf6-4381-8b87-736e381d6f41",
   "metadata": {},
   "source": [
    "2. Create a new text file named \"output.txt\" and write three lines of text into the file. Read the lines."
   ]
  },
  {
   "cell_type": "code",
   "execution_count": 20,
   "id": "4a03e514-bd6e-4d3c-b3a2-d9bb04e2daef",
   "metadata": {
    "execution": {
     "iopub.execute_input": "2024-12-04T12:51:09.653695Z",
     "iopub.status.busy": "2024-12-04T12:51:09.653695Z",
     "iopub.status.idle": "2024-12-04T12:51:09.667349Z",
     "shell.execute_reply": "2024-12-04T12:51:09.665531Z",
     "shell.execute_reply.started": "2024-12-04T12:51:09.653695Z"
    }
   },
   "outputs": [
    {
     "name": "stdout",
     "output_type": "stream",
     "text": [
      "File handling in Python is a powerful and versatile tool that can be used to perform a wide range of operations.\n",
      "However, it is important to carefully consider the advantages and disadvantages of file handling when writing Python programs,\n",
      "to ensure that the code is secure, reliable, and performs well.\n"
     ]
    }
   ],
   "source": [
    "filepath2='C:\\\\Users\\\\91630\\\\Innomatics-DA\\\\00-Assignments_and_Tasks\\\\Tasks\\\\Task10\\\\output.txt'\n",
    "str = '''File handling in Python is a powerful and versatile tool that can be used to perform a wide range of operations.\n",
    "However, it is important to carefully consider the advantages and disadvantages of file handling when writing Python programs,\n",
    "to ensure that the code is secure, reliable, and performs well.'''\n",
    "fo = open(filepath2, mode = 'w')\n",
    "fo.write(str)\n",
    "fo.close()\n",
    "\n",
    "fo = open(filepath2)\n",
    "print(fo.read())\n",
    "fo.close()"
   ]
  },
  {
   "cell_type": "markdown",
   "id": "b85fdfa0-9cb1-46b7-9a7a-0a2a2d877182",
   "metadata": {},
   "source": [
    "**Q2:**\n",
    "1. Create a text file named \"numbers.txt\" with numbers 1 to 5 each on a new line. Write a Python program to open the file, read its content line by line, and print their sum."
   ]
  },
  {
   "cell_type": "code",
   "execution_count": 21,
   "id": "05060f57-99ab-4c92-a198-a2ba4f33acb8",
   "metadata": {
    "execution": {
     "iopub.execute_input": "2024-12-04T12:51:12.292667Z",
     "iopub.status.busy": "2024-12-04T12:51:12.292667Z",
     "iopub.status.idle": "2024-12-04T12:51:12.304244Z",
     "shell.execute_reply": "2024-12-04T12:51:12.304244Z",
     "shell.execute_reply.started": "2024-12-04T12:51:12.292667Z"
    }
   },
   "outputs": [
    {
     "name": "stdout",
     "output_type": "stream",
     "text": [
      "15\n"
     ]
    }
   ],
   "source": [
    "fp='C:\\\\Users\\\\91630\\\\Innomatics-DA\\\\00-Assignments_and_Tasks\\\\Tasks\\\\Task10\\\\number.txt'\n",
    "fo = open(fp, mode = 'w')\n",
    "for i in range(1, 6):\n",
    "    fo.write(f\"{i}\\n\")\n",
    "fo.close\n",
    "\n",
    "fo = open(fp)\n",
    "total = 0\n",
    "for i in fo:\n",
    "    total += int(i)\n",
    "print(total)\n",
    "fo.close()"
   ]
  },
  {
   "cell_type": "markdown",
   "id": "32972c4b-6282-4e6c-8ad7-eef236dea979",
   "metadata": {},
   "source": [
    "2. Write a Python function that opens a file named \"example.txt\", reads its content, and prints the number of occurrences of each unique word in the file. Assume that words are separated by spaces, and ignore punctuation."
   ]
  },
  {
   "cell_type": "code",
   "execution_count": 30,
   "id": "e9c5bbda-1655-4caf-90db-b6670bcb351a",
   "metadata": {
    "execution": {
     "iopub.execute_input": "2024-12-04T13:05:13.551741Z",
     "iopub.status.busy": "2024-12-04T13:05:13.551741Z",
     "iopub.status.idle": "2024-12-04T13:05:13.565050Z",
     "shell.execute_reply": "2024-12-04T13:05:13.564507Z",
     "shell.execute_reply.started": "2024-12-04T13:05:13.551741Z"
    }
   },
   "outputs": [
    {
     "name": "stdout",
     "output_type": "stream",
     "text": [
      "{'File': 1, 'handling': 2, 'in': 1, 'Python': 2, 'is': 3, 'a': 2, 'powerful': 1, 'and': 3, 'versatile': 1, 'tool': 1, 'that': 2, 'can': 1, 'be': 1, 'used': 1, 'to': 3, 'perform': 1, 'wide': 1, 'range': 1, 'of': 2, 'operations.': 1, 'However,': 1, 'it': 1, 'important': 1, 'carefully': 1, 'consider': 1, 'the': 2, 'advantages': 1, 'disadvantages': 1, 'file': 1, 'when': 1, 'writing': 1, 'programs,': 1, 'ensure': 1, 'code': 1, 'secure,': 1, 'reliable,': 1, 'performs': 1, 'well.': 1}\n"
     ]
    }
   ],
   "source": [
    "fp='C://Users//91630//Innomatics-DA//00-Assignments_and_Tasks//Tasks//Task10/example.txt'\n",
    "fo = open(fp)\n",
    "content = fo.read()\n",
    "word = content.split()\n",
    "dict = {}\n",
    "for i in word:\n",
    "    if i in dict:\n",
    "        dict[i] += 1\n",
    "    else:\n",
    "        dict[i] = 1\n",
    "print(dict)     \n",
    "fo.close()"
   ]
  },
  {
   "cell_type": "markdown",
   "id": "fd5bc031-5eae-4f60-8d42-ff9bbcfee649",
   "metadata": {
    "execution": {
     "iopub.execute_input": "2024-12-04T13:06:03.251933Z",
     "iopub.status.busy": "2024-12-04T13:06:03.251933Z",
     "iopub.status.idle": "2024-12-04T13:06:03.264546Z",
     "shell.execute_reply": "2024-12-04T13:06:03.264546Z",
     "shell.execute_reply.started": "2024-12-04T13:06:03.251933Z"
    }
   },
   "source": [
    "**Q3:** Write a Python function that takes a file path as input and prints the total number of lines in the file."
   ]
  },
  {
   "cell_type": "code",
   "execution_count": 35,
   "id": "755ec558-cd13-4cfa-8d2d-b3f182c9c583",
   "metadata": {
    "execution": {
     "iopub.execute_input": "2024-12-04T13:11:39.120982Z",
     "iopub.status.busy": "2024-12-04T13:11:39.120982Z",
     "iopub.status.idle": "2024-12-04T13:11:39.137264Z",
     "shell.execute_reply": "2024-12-04T13:11:39.135742Z",
     "shell.execute_reply.started": "2024-12-04T13:11:39.120982Z"
    }
   },
   "outputs": [
    {
     "name": "stdout",
     "output_type": "stream",
     "text": [
      "3\n"
     ]
    }
   ],
   "source": [
    "fp='C://Users//91630//Innomatics-DA//00-Assignments_and_Tasks//Tasks//Task10/example.txt'\n",
    "fo = open(fp)\n",
    "content = fo.read()\n",
    "line = content.split('\\n')\n",
    "print(len(line))\n",
    "fo.close()"
   ]
  },
  {
   "cell_type": "markdown",
   "id": "07124e02-742e-42aa-b2a9-e78148bc1486",
   "metadata": {},
   "source": [
    "**Q4:**\n",
    "1. Transfer content from one file within a folder to another file."
   ]
  },
  {
   "cell_type": "code",
   "execution_count": 36,
   "id": "e1f007e2-47d8-4f78-ada7-c9febfbac246",
   "metadata": {
    "execution": {
     "iopub.execute_input": "2024-12-04T15:39:30.105582Z",
     "iopub.status.busy": "2024-12-04T15:39:30.105582Z",
     "iopub.status.idle": "2024-12-04T15:39:30.124924Z",
     "shell.execute_reply": "2024-12-04T15:39:30.123034Z",
     "shell.execute_reply.started": "2024-12-04T15:39:30.105582Z"
    }
   },
   "outputs": [],
   "source": [
    "fp1='C://Users//91630//Innomatics-DA//00-Assignments_and_Tasks//Tasks//Task10/example.txt'\n",
    "fp2='C://Users//91630//Innomatics-DA//00-Assignments_and_Tasks//Tasks//Task10/example2.txt'\n",
    "\n",
    "fo1 = open(fp1)\n",
    "content = fo1.read()\n",
    "fo2 = open(fp2, mode = 'w')\n",
    "fo2.write(content)\n",
    "\n",
    "fo1.close()\n",
    "fo2.close()"
   ]
  },
  {
   "cell_type": "markdown",
   "id": "1992197e-06a7-41b4-ab4e-ee40b7f7341e",
   "metadata": {},
   "source": [
    "2. Programmatically identify and correct erroneous text within a file, and subsequently save the corrected version in another file?"
   ]
  },
  {
   "cell_type": "code",
   "execution_count": 12,
   "id": "527431c5-0a85-4ced-bdb4-cedefc2396e7",
   "metadata": {
    "execution": {
     "iopub.execute_input": "2024-12-06T07:19:23.009939Z",
     "iopub.status.busy": "2024-12-06T07:19:23.009939Z",
     "iopub.status.idle": "2024-12-06T07:19:23.024541Z",
     "shell.execute_reply": "2024-12-06T07:19:23.023538Z",
     "shell.execute_reply.started": "2024-12-06T07:19:23.009939Z"
    }
   },
   "outputs": [
    {
     "name": "stdout",
     "output_type": "stream",
     "text": [
      "The error text is: It was a beutiful day outside, but teh weather suddenly changed. The managment was not prepared adn chaos occured. Everyone tried to adress the situation, but it was too late to receive help on time.\n",
      "\n",
      "The corrected text is: It was a beautiful day outside, but the weather suddenly changed. The management was not prepared and chaos occurred. Everyone tried to address the situation, but it was too late to receive help on time.\n"
     ]
    }
   ],
   "source": [
    "# already created error_text file with some text\n",
    "fp1='C://Users//91630//Innomatics-DA//00-Assignments_and_Tasks//Tasks//Task10/error_text.txt'\n",
    "# creating a new file to upload the corrected text\n",
    "fp2='C://Users//91630//Innomatics-DA//00-Assignments_and_Tasks//Tasks//Task10/corrected_text.txt'\n",
    "\n",
    "fo1 = open(fp1)\n",
    "content = fo1.read()\n",
    "print(f\"The error text is: {content}\")\n",
    "\n",
    "update_txt = content.replace('beutiful','beautiful').replace('teh','the').replace('managment','management')\\\n",
    ".replace('adn','and').replace('occured','occurred').replace('adress','address')\n",
    "print()\n",
    "print(\"The corrected text is: \"+update_txt)\n",
    "\n",
    "fo2 = open(fp2, mode = 'w')\n",
    "fo2.write(update_txt)\n",
    "\n",
    "fo2.close()\n",
    "fo1.close()\n",
    "# In the above code we are manually changing the error text to automate this we can use python libraries"
   ]
  },
  {
   "cell_type": "markdown",
   "id": "68d0f7d2-1d8a-472e-8ceb-d094ade168f9",
   "metadata": {},
   "source": [
    "**Q5:** Check all types of errors and exception handling in python (and theory from python documentation)"
   ]
  },
  {
   "cell_type": "markdown",
   "id": "19cbf293-17db-4021-8af6-5a667d9ad1f3",
   "metadata": {
    "execution": {
     "iopub.execute_input": "2024-12-06T10:20:15.848550Z",
     "iopub.status.busy": "2024-12-06T10:20:15.848550Z",
     "iopub.status.idle": "2024-12-06T10:20:15.859778Z",
     "shell.execute_reply": "2024-12-06T10:20:15.859778Z",
     "shell.execute_reply.started": "2024-12-06T10:20:15.848550Z"
    }
   },
   "source": [
    "Types of errors:\n",
    "+ syntax errors : Happens when we write incorrect syntax.\n",
    "+ Exceptions : Occurs during the execution of a program and disrupt its normal flow "
   ]
  },
  {
   "cell_type": "code",
   "execution_count": 16,
   "id": "80317561-48ba-45db-811b-f765245251f8",
   "metadata": {
    "execution": {
     "iopub.execute_input": "2024-12-06T10:28:59.232817Z",
     "iopub.status.busy": "2024-12-06T10:28:59.232817Z",
     "iopub.status.idle": "2024-12-06T10:28:59.256732Z",
     "shell.execute_reply": "2024-12-06T10:28:59.254702Z",
     "shell.execute_reply.started": "2024-12-06T10:28:59.232817Z"
    }
   },
   "outputs": [
    {
     "ename": "SyntaxError",
     "evalue": "unterminated string literal (detected at line 4) (3866073997.py, line 4)",
     "output_type": "error",
     "traceback": [
      "\u001b[1;36m  Cell \u001b[1;32mIn[16], line 4\u001b[1;36m\u001b[0m\n\u001b[1;33m    print('Hii\")\u001b[0m\n\u001b[1;37m          ^\u001b[0m\n\u001b[1;31mSyntaxError\u001b[0m\u001b[1;31m:\u001b[0m unterminated string literal (detected at line 4)\n"
     ]
    }
   ],
   "source": [
    "# example for syntax error\n",
    "for i in range(3):\n",
    "    print(i)\n",
    "    print('Hii\")"
   ]
  },
  {
   "cell_type": "code",
   "execution_count": 29,
   "id": "e77a2541-4064-4b8f-b18a-9b6e1f32e5ad",
   "metadata": {
    "execution": {
     "iopub.execute_input": "2024-12-06T11:23:08.942220Z",
     "iopub.status.busy": "2024-12-06T11:23:08.934179Z",
     "iopub.status.idle": "2024-12-06T11:23:08.951605Z",
     "shell.execute_reply": "2024-12-06T11:23:08.951605Z",
     "shell.execute_reply.started": "2024-12-06T11:23:08.942220Z"
    }
   },
   "outputs": [
    {
     "ename": "IndentationError",
     "evalue": "expected an indented block after 'if' statement on line 3 (251429511.py, line 4)",
     "output_type": "error",
     "traceback": [
      "\u001b[1;36m  Cell \u001b[1;32mIn[29], line 4\u001b[1;36m\u001b[0m\n\u001b[1;33m    print('hi')\u001b[0m\n\u001b[1;37m    ^\u001b[0m\n\u001b[1;31mIndentationError\u001b[0m\u001b[1;31m:\u001b[0m expected an indented block after 'if' statement on line 3\n"
     ]
    }
   ],
   "source": [
    "# indentation error\n",
    "# since indentaion error is not a runtime error we can't use exception handling for this\n",
    "if (4>3):\n",
    "print('hi')"
   ]
  },
  {
   "cell_type": "markdown",
   "id": "a99385bc-dd65-4f34-98c4-76489a1ec15d",
   "metadata": {},
   "source": [
    "Common Exceptions:\n",
    "+ NameError\n",
    "+ TypeError\n",
    "+ ValueError\n",
    "+ IndexError\n",
    "+ KeyError\n",
    "+ AttributeError\n",
    "+ ZeroDivisionError\n",
    "+ ModuleNotFoundError"
   ]
  },
  {
   "cell_type": "code",
   "execution_count": 17,
   "id": "33817937-a01a-4cf3-be81-b966fc69b976",
   "metadata": {
    "execution": {
     "iopub.execute_input": "2024-12-06T11:12:44.975117Z",
     "iopub.status.busy": "2024-12-06T11:12:44.975117Z",
     "iopub.status.idle": "2024-12-06T11:12:45.015858Z",
     "shell.execute_reply": "2024-12-06T11:12:45.014787Z",
     "shell.execute_reply.started": "2024-12-06T11:12:44.975117Z"
    }
   },
   "outputs": [
    {
     "ename": "NameError",
     "evalue": "name 'var' is not defined",
     "output_type": "error",
     "traceback": [
      "\u001b[1;31m---------------------------------------------------------------------------\u001b[0m",
      "\u001b[1;31mNameError\u001b[0m                                 Traceback (most recent call last)",
      "Cell \u001b[1;32mIn[17], line 2\u001b[0m\n\u001b[0;32m      1\u001b[0m \u001b[38;5;66;03m# name error\u001b[39;00m\n\u001b[1;32m----> 2\u001b[0m \u001b[38;5;28mprint\u001b[39m(var)\n",
      "\u001b[1;31mNameError\u001b[0m: name 'var' is not defined"
     ]
    }
   ],
   "source": [
    "# name error\n",
    "print(var)"
   ]
  },
  {
   "cell_type": "code",
   "execution_count": 18,
   "id": "80a13b5f-f193-4322-96ca-e579c1ead8ff",
   "metadata": {
    "execution": {
     "iopub.execute_input": "2024-12-06T11:13:04.541278Z",
     "iopub.status.busy": "2024-12-06T11:13:04.541278Z",
     "iopub.status.idle": "2024-12-06T11:13:04.553242Z",
     "shell.execute_reply": "2024-12-06T11:13:04.553242Z",
     "shell.execute_reply.started": "2024-12-06T11:13:04.541278Z"
    }
   },
   "outputs": [
    {
     "name": "stdout",
     "output_type": "stream",
     "text": [
      "NameError: name 'var' is not defined\n"
     ]
    }
   ],
   "source": [
    "try:\n",
    "    print(var)\n",
    "except NameError as e:\n",
    "    print(f\"NameError: {e}\")"
   ]
  },
  {
   "cell_type": "code",
   "execution_count": 19,
   "id": "4a8c6925-a0e0-4163-9c5a-7977578a7ec4",
   "metadata": {
    "execution": {
     "iopub.execute_input": "2024-12-06T11:13:52.883753Z",
     "iopub.status.busy": "2024-12-06T11:13:52.883753Z",
     "iopub.status.idle": "2024-12-06T11:13:52.924513Z",
     "shell.execute_reply": "2024-12-06T11:13:52.922502Z",
     "shell.execute_reply.started": "2024-12-06T11:13:52.883753Z"
    }
   },
   "outputs": [
    {
     "ename": "TypeError",
     "evalue": "can only concatenate str (not \"int\") to str",
     "output_type": "error",
     "traceback": [
      "\u001b[1;31m---------------------------------------------------------------------------\u001b[0m",
      "\u001b[1;31mTypeError\u001b[0m                                 Traceback (most recent call last)",
      "Cell \u001b[1;32mIn[19], line 2\u001b[0m\n\u001b[0;32m      1\u001b[0m \u001b[38;5;66;03m# type error\u001b[39;00m\n\u001b[1;32m----> 2\u001b[0m result \u001b[38;5;241m=\u001b[39m \u001b[38;5;124m\"\u001b[39m\u001b[38;5;124m5\u001b[39m\u001b[38;5;124m\"\u001b[39m \u001b[38;5;241m+\u001b[39m \u001b[38;5;241m10\u001b[39m\n",
      "\u001b[1;31mTypeError\u001b[0m: can only concatenate str (not \"int\") to str"
     ]
    }
   ],
   "source": [
    "# type error\n",
    "result = \"5\" + 10"
   ]
  },
  {
   "cell_type": "code",
   "execution_count": 20,
   "id": "249bbe67-5e71-4cb1-a4d9-c842ca197efd",
   "metadata": {
    "execution": {
     "iopub.execute_input": "2024-12-06T11:14:02.499324Z",
     "iopub.status.busy": "2024-12-06T11:14:02.491001Z",
     "iopub.status.idle": "2024-12-06T11:14:02.512170Z",
     "shell.execute_reply": "2024-12-06T11:14:02.512170Z",
     "shell.execute_reply.started": "2024-12-06T11:14:02.499324Z"
    }
   },
   "outputs": [
    {
     "name": "stdout",
     "output_type": "stream",
     "text": [
      "TypeError: can only concatenate str (not \"int\") to str\n"
     ]
    }
   ],
   "source": [
    "try:\n",
    "    result = \"5\" + 10\n",
    "except TypeError as e:\n",
    "    print(f\"TypeError: {e}\")"
   ]
  },
  {
   "cell_type": "code",
   "execution_count": 21,
   "id": "3b9b77d3-5047-4aba-8ff5-dfac5575a940",
   "metadata": {
    "execution": {
     "iopub.execute_input": "2024-12-06T11:15:24.908038Z",
     "iopub.status.busy": "2024-12-06T11:15:24.908038Z",
     "iopub.status.idle": "2024-12-06T11:15:24.949488Z",
     "shell.execute_reply": "2024-12-06T11:15:24.947722Z",
     "shell.execute_reply.started": "2024-12-06T11:15:24.908038Z"
    }
   },
   "outputs": [
    {
     "ename": "ValueError",
     "evalue": "invalid literal for int() with base 10: 'abc'",
     "output_type": "error",
     "traceback": [
      "\u001b[1;31m---------------------------------------------------------------------------\u001b[0m",
      "\u001b[1;31mValueError\u001b[0m                                Traceback (most recent call last)",
      "Cell \u001b[1;32mIn[21], line 2\u001b[0m\n\u001b[0;32m      1\u001b[0m \u001b[38;5;66;03m# value error\u001b[39;00m\n\u001b[1;32m----> 2\u001b[0m number \u001b[38;5;241m=\u001b[39m \u001b[38;5;28mint\u001b[39m(\u001b[38;5;124m\"\u001b[39m\u001b[38;5;124mabc\u001b[39m\u001b[38;5;124m\"\u001b[39m)\n",
      "\u001b[1;31mValueError\u001b[0m: invalid literal for int() with base 10: 'abc'"
     ]
    }
   ],
   "source": [
    "# value error\n",
    "number = int(\"abc\")"
   ]
  },
  {
   "cell_type": "code",
   "execution_count": 22,
   "id": "15cbf9c5-340c-476e-a3fc-21ac00537213",
   "metadata": {
    "execution": {
     "iopub.execute_input": "2024-12-06T11:15:30.617557Z",
     "iopub.status.busy": "2024-12-06T11:15:30.617557Z",
     "iopub.status.idle": "2024-12-06T11:15:30.630175Z",
     "shell.execute_reply": "2024-12-06T11:15:30.628296Z",
     "shell.execute_reply.started": "2024-12-06T11:15:30.617557Z"
    }
   },
   "outputs": [
    {
     "name": "stdout",
     "output_type": "stream",
     "text": [
      "ValueError: invalid literal for int() with base 10: 'abc'\n"
     ]
    }
   ],
   "source": [
    "try:\n",
    "    number = int(\"abc\")\n",
    "except ValueError as e:\n",
    "    print(f\"ValueError: {e}\")"
   ]
  },
  {
   "cell_type": "code",
   "execution_count": 30,
   "id": "ccf2d780-82a7-406e-bce7-89846cd9fd90",
   "metadata": {
    "execution": {
     "iopub.execute_input": "2024-12-06T11:23:58.070140Z",
     "iopub.status.busy": "2024-12-06T11:23:58.067605Z",
     "iopub.status.idle": "2024-12-06T11:23:58.110303Z",
     "shell.execute_reply": "2024-12-06T11:23:58.109271Z",
     "shell.execute_reply.started": "2024-12-06T11:23:58.070140Z"
    }
   },
   "outputs": [
    {
     "ename": "IndexError",
     "evalue": "list index out of range",
     "output_type": "error",
     "traceback": [
      "\u001b[1;31m---------------------------------------------------------------------------\u001b[0m",
      "\u001b[1;31mIndexError\u001b[0m                                Traceback (most recent call last)",
      "Cell \u001b[1;32mIn[30], line 3\u001b[0m\n\u001b[0;32m      1\u001b[0m \u001b[38;5;66;03m# Index error\u001b[39;00m\n\u001b[0;32m      2\u001b[0m my_list \u001b[38;5;241m=\u001b[39m [\u001b[38;5;241m1\u001b[39m, \u001b[38;5;241m2\u001b[39m, \u001b[38;5;241m3\u001b[39m]\n\u001b[1;32m----> 3\u001b[0m \u001b[38;5;28mprint\u001b[39m(my_list[\u001b[38;5;241m5\u001b[39m])\n",
      "\u001b[1;31mIndexError\u001b[0m: list index out of range"
     ]
    }
   ],
   "source": [
    "# Index error\n",
    "my_list = [1, 2, 3]\n",
    "print(my_list[5])"
   ]
  },
  {
   "cell_type": "code",
   "execution_count": 31,
   "id": "5e045160-50d4-4293-a3f4-824f77ccb847",
   "metadata": {
    "execution": {
     "iopub.execute_input": "2024-12-06T11:24:00.725967Z",
     "iopub.status.busy": "2024-12-06T11:24:00.725967Z",
     "iopub.status.idle": "2024-12-06T11:24:00.740312Z",
     "shell.execute_reply": "2024-12-06T11:24:00.740312Z",
     "shell.execute_reply.started": "2024-12-06T11:24:00.725967Z"
    }
   },
   "outputs": [
    {
     "name": "stdout",
     "output_type": "stream",
     "text": [
      "IndexError: list index out of range\n"
     ]
    }
   ],
   "source": [
    "try:\n",
    "    my_list = [1, 2, 3]\n",
    "    print(my_list[5])\n",
    "except IndexError as e:\n",
    "    print(f\"IndexError: {e}\")"
   ]
  },
  {
   "cell_type": "code",
   "execution_count": 32,
   "id": "b3bbcba1-145a-483a-896e-789ae88086e6",
   "metadata": {
    "execution": {
     "iopub.execute_input": "2024-12-06T11:24:50.103024Z",
     "iopub.status.busy": "2024-12-06T11:24:50.103024Z",
     "iopub.status.idle": "2024-12-06T11:24:50.152424Z",
     "shell.execute_reply": "2024-12-06T11:24:50.152424Z",
     "shell.execute_reply.started": "2024-12-06T11:24:50.103024Z"
    }
   },
   "outputs": [
    {
     "ename": "KeyError",
     "evalue": "'missing_key'",
     "output_type": "error",
     "traceback": [
      "\u001b[1;31m---------------------------------------------------------------------------\u001b[0m",
      "\u001b[1;31mKeyError\u001b[0m                                  Traceback (most recent call last)",
      "Cell \u001b[1;32mIn[32], line 3\u001b[0m\n\u001b[0;32m      1\u001b[0m \u001b[38;5;66;03m# key error\u001b[39;00m\n\u001b[0;32m      2\u001b[0m my_dict \u001b[38;5;241m=\u001b[39m {\u001b[38;5;124m\"\u001b[39m\u001b[38;5;124mkey\u001b[39m\u001b[38;5;124m\"\u001b[39m: \u001b[38;5;124m\"\u001b[39m\u001b[38;5;124mvalue\u001b[39m\u001b[38;5;124m\"\u001b[39m}\n\u001b[1;32m----> 3\u001b[0m \u001b[38;5;28mprint\u001b[39m(my_dict[\u001b[38;5;124m\"\u001b[39m\u001b[38;5;124mmissing_key\u001b[39m\u001b[38;5;124m\"\u001b[39m])\n",
      "\u001b[1;31mKeyError\u001b[0m: 'missing_key'"
     ]
    }
   ],
   "source": [
    "# key error\n",
    "my_dict = {\"key\": \"value\"}\n",
    "print(my_dict[\"missing_key\"])"
   ]
  },
  {
   "cell_type": "code",
   "execution_count": 33,
   "id": "43354fde-6d75-4a13-84d5-58b9fead3d20",
   "metadata": {
    "execution": {
     "iopub.execute_input": "2024-12-06T11:24:53.684473Z",
     "iopub.status.busy": "2024-12-06T11:24:53.684473Z",
     "iopub.status.idle": "2024-12-06T11:24:53.700360Z",
     "shell.execute_reply": "2024-12-06T11:24:53.698715Z",
     "shell.execute_reply.started": "2024-12-06T11:24:53.684473Z"
    }
   },
   "outputs": [
    {
     "name": "stdout",
     "output_type": "stream",
     "text": [
      "KeyError: 'missing_key'\n"
     ]
    }
   ],
   "source": [
    "try:\n",
    "    my_dict = {\"key\": \"value\"}\n",
    "    print(my_dict[\"missing_key\"])\n",
    "except KeyError as e:\n",
    "    print(f\"KeyError: {e}\")\n"
   ]
  },
  {
   "cell_type": "code",
   "execution_count": 41,
   "id": "df7a50c8-029b-419c-bdb3-94f3aa91e5bf",
   "metadata": {
    "execution": {
     "iopub.execute_input": "2024-12-06T11:31:32.452390Z",
     "iopub.status.busy": "2024-12-06T11:31:32.437515Z",
     "iopub.status.idle": "2024-12-06T11:31:32.493613Z",
     "shell.execute_reply": "2024-12-06T11:31:32.490945Z",
     "shell.execute_reply.started": "2024-12-06T11:31:32.452390Z"
    }
   },
   "outputs": [
    {
     "ename": "AttributeError",
     "evalue": "'list' object has no attribute 'appendvalue'",
     "output_type": "error",
     "traceback": [
      "\u001b[1;31m---------------------------------------------------------------------------\u001b[0m",
      "\u001b[1;31mAttributeError\u001b[0m                            Traceback (most recent call last)",
      "Cell \u001b[1;32mIn[41], line 3\u001b[0m\n\u001b[0;32m      1\u001b[0m \u001b[38;5;66;03m# AttributeError\u001b[39;00m\n\u001b[0;32m      2\u001b[0m my_list \u001b[38;5;241m=\u001b[39m [\u001b[38;5;241m1\u001b[39m, \u001b[38;5;241m2\u001b[39m, \u001b[38;5;241m3\u001b[39m]\n\u001b[1;32m----> 3\u001b[0m my_list\u001b[38;5;241m.\u001b[39mappendvalue(\u001b[38;5;241m4\u001b[39m)\n",
      "\u001b[1;31mAttributeError\u001b[0m: 'list' object has no attribute 'appendvalue'"
     ]
    }
   ],
   "source": [
    "# AttributeError\n",
    "my_list = [1, 2, 3]\n",
    "my_list.appendvalue(4)"
   ]
  },
  {
   "cell_type": "code",
   "execution_count": 36,
   "id": "00a686c6-bfa0-4c84-ac2e-795a03d33987",
   "metadata": {
    "execution": {
     "iopub.execute_input": "2024-12-06T11:26:05.007398Z",
     "iopub.status.busy": "2024-12-06T11:26:05.007398Z",
     "iopub.status.idle": "2024-12-06T11:26:05.020735Z",
     "shell.execute_reply": "2024-12-06T11:26:05.018623Z",
     "shell.execute_reply.started": "2024-12-06T11:26:05.007398Z"
    }
   },
   "outputs": [
    {
     "name": "stdout",
     "output_type": "stream",
     "text": [
      "AttributeError: 'list' object has no attribute 'appendvalue'\n"
     ]
    }
   ],
   "source": [
    "try:\n",
    "    my_list = [1, 2, 3]\n",
    "    my_list.appendvalue(4)\n",
    "except AttributeError as e:\n",
    "    print(f\"AttributeError: {e}\")"
   ]
  },
  {
   "cell_type": "code",
   "execution_count": 38,
   "id": "f24c66d1-5390-41a9-94b8-6c988b799840",
   "metadata": {
    "execution": {
     "iopub.execute_input": "2024-12-06T11:26:44.707381Z",
     "iopub.status.busy": "2024-12-06T11:26:44.701347Z",
     "iopub.status.idle": "2024-12-06T11:26:44.739400Z",
     "shell.execute_reply": "2024-12-06T11:26:44.738394Z",
     "shell.execute_reply.started": "2024-12-06T11:26:44.707381Z"
    }
   },
   "outputs": [
    {
     "ename": "ZeroDivisionError",
     "evalue": "division by zero",
     "output_type": "error",
     "traceback": [
      "\u001b[1;31m---------------------------------------------------------------------------\u001b[0m",
      "\u001b[1;31mZeroDivisionError\u001b[0m                         Traceback (most recent call last)",
      "Cell \u001b[1;32mIn[38], line 2\u001b[0m\n\u001b[0;32m      1\u001b[0m \u001b[38;5;66;03m# ZeroDivisionError\u001b[39;00m\n\u001b[1;32m----> 2\u001b[0m result \u001b[38;5;241m=\u001b[39m \u001b[38;5;241m50\u001b[39m \u001b[38;5;241m/\u001b[39m \u001b[38;5;241m0\u001b[39m\n",
      "\u001b[1;31mZeroDivisionError\u001b[0m: division by zero"
     ]
    }
   ],
   "source": [
    "# ZeroDivisionError\n",
    "result = 50 / 0"
   ]
  },
  {
   "cell_type": "code",
   "execution_count": 39,
   "id": "9f3117c0-b68b-4841-8f2a-a15069d08cd9",
   "metadata": {
    "execution": {
     "iopub.execute_input": "2024-12-06T11:26:45.440947Z",
     "iopub.status.busy": "2024-12-06T11:26:45.440947Z",
     "iopub.status.idle": "2024-12-06T11:26:45.451343Z",
     "shell.execute_reply": "2024-12-06T11:26:45.450914Z",
     "shell.execute_reply.started": "2024-12-06T11:26:45.440947Z"
    }
   },
   "outputs": [
    {
     "name": "stdout",
     "output_type": "stream",
     "text": [
      "ZeroDivisionError: division by zero\n"
     ]
    }
   ],
   "source": [
    "try:\n",
    "    result = 50 / 0\n",
    "except ZeroDivisionError as e:\n",
    "    print(f\"ZeroDivisionError: {e}\")"
   ]
  },
  {
   "cell_type": "code",
   "execution_count": 43,
   "id": "173b8a43-6928-44b8-882c-3da24cce9a42",
   "metadata": {
    "execution": {
     "iopub.execute_input": "2024-12-06T11:32:45.770985Z",
     "iopub.status.busy": "2024-12-06T11:32:45.770985Z",
     "iopub.status.idle": "2024-12-06T11:32:45.808819Z",
     "shell.execute_reply": "2024-12-06T11:32:45.808819Z",
     "shell.execute_reply.started": "2024-12-06T11:32:45.770985Z"
    }
   },
   "outputs": [
    {
     "ename": "ModuleNotFoundError",
     "evalue": "No module named 'system'",
     "output_type": "error",
     "traceback": [
      "\u001b[1;31m---------------------------------------------------------------------------\u001b[0m",
      "\u001b[1;31mModuleNotFoundError\u001b[0m                       Traceback (most recent call last)",
      "Cell \u001b[1;32mIn[43], line 2\u001b[0m\n\u001b[0;32m      1\u001b[0m \u001b[38;5;66;03m# ModuleNotFoundError\u001b[39;00m\n\u001b[1;32m----> 2\u001b[0m \u001b[38;5;28;01mimport\u001b[39;00m \u001b[38;5;21;01msystem\u001b[39;00m\n",
      "\u001b[1;31mModuleNotFoundError\u001b[0m: No module named 'system'"
     ]
    }
   ],
   "source": [
    "# ModuleNotFoundError\n",
    "import system"
   ]
  },
  {
   "cell_type": "code",
   "execution_count": 44,
   "id": "ec364180-b756-414a-a8b5-fb998c3d89f3",
   "metadata": {
    "execution": {
     "iopub.execute_input": "2024-12-06T11:32:53.235859Z",
     "iopub.status.busy": "2024-12-06T11:32:53.235859Z",
     "iopub.status.idle": "2024-12-06T11:32:53.252592Z",
     "shell.execute_reply": "2024-12-06T11:32:53.251080Z",
     "shell.execute_reply.started": "2024-12-06T11:32:53.235859Z"
    }
   },
   "outputs": [
    {
     "name": "stdout",
     "output_type": "stream",
     "text": [
      "ModuleNotFoundError: No module named 'system'\n"
     ]
    }
   ],
   "source": [
    "try:\n",
    "    import system\n",
    "except ModuleNotFoundError as e:\n",
    "    print(f\"ModuleNotFoundError: {e}\")"
   ]
  },
  {
   "cell_type": "markdown",
   "id": "d6f4e739-16fc-4fc4-9d18-a8c9b7370cf6",
   "metadata": {},
   "source": [
    "Exception Handling"
   ]
  },
  {
   "cell_type": "markdown",
   "id": "c2b41a63-d239-40d4-8b21-88dbae3d1ddb",
   "metadata": {},
   "source": [
    "+ basic(try-except) : if an exception occurs in try block, except block will be excuted\n",
    "+ catching multiple exceptions : we can specify the type of exception\n",
    "+ catching all exceptions\n",
    "+ using try-except-else : else block will be executed, if no exceptions are raised in try block\n",
    "+ using finally : finally will be executed irrespective of exceptions\n",
    "+ raising exceptions"
   ]
  },
  {
   "cell_type": "code",
   "execution_count": 52,
   "id": "c7906411-a02c-46fa-a926-32e822ec3ebe",
   "metadata": {
    "execution": {
     "iopub.execute_input": "2024-12-06T12:03:26.583838Z",
     "iopub.status.busy": "2024-12-06T12:03:26.568185Z",
     "iopub.status.idle": "2024-12-06T12:03:36.643170Z",
     "shell.execute_reply": "2024-12-06T12:03:36.643170Z",
     "shell.execute_reply.started": "2024-12-06T12:03:26.583838Z"
    }
   },
   "outputs": [
    {
     "name": "stdout",
     "output_type": "stream",
     "text": [
      "Your balance is: 1000\n",
      "Choose an operation: 1) Deposit 2) Withdraw\n"
     ]
    },
    {
     "name": "stdin",
     "output_type": "stream",
     "text": [
      "Enter your choice (1 or 2):  1\n",
      "Enter amount to deposit:  2532\n"
     ]
    },
    {
     "name": "stdout",
     "output_type": "stream",
     "text": [
      "Deposit successful. New balance: $3532.00\n",
      "Transaction completed successfully.\n",
      "Thank you for using our banking service!\n"
     ]
    }
   ],
   "source": [
    "# Lets see all these techniques in a single code\n",
    "# Banking system\n",
    "\n",
    "def banking_operations():\n",
    "    balance = 1000  \n",
    "    print(\"Your balance is:\",balance)\n",
    "    try:\n",
    "        print(\"Choose an operation: 1) Deposit 2) Withdraw\")\n",
    "        choice = int(input(\"Enter your choice (1 or 2): \"))\n",
    "\n",
    "        if choice not in [1, 2]:\n",
    "            raise ValueError(\"Invalid choice. Please select 1 or 2.\") # raising exception\n",
    "\n",
    "        if choice == 1:\n",
    "            try:\n",
    "                amount = float(input(\"Enter amount to deposit: \"))\n",
    "                if amount <= 0:\n",
    "                    raise ValueError(\"Deposit amount must be greater than zero.\")\n",
    "                balance += amount\n",
    "                print(f\"Deposit successful. New balance: ${balance:.2f}\")\n",
    "            except ValueError as e: # catching specific exception\n",
    "                print(f\"Error: {e}\")\n",
    "\n",
    "        elif choice == 2:\n",
    "            try:\n",
    "                amount = float(input(\"Enter amount to withdraw: \"))\n",
    "                if amount <= 0:\n",
    "                    raise ValueError(\"Withdrawal amount must be greater than zero.\")\n",
    "                if amount > balance:\n",
    "                    raise Exception(\"Insufficient funds.\")\n",
    "                balance -= amount\n",
    "                print(f\"Withdrawal successful. Remaining balance: ${balance:.2f}\")\n",
    "            except ValueError as e:\n",
    "                print(f\"Error: {e}\")\n",
    "            except Exception as e:\n",
    "                print(f\"Error: {e}\")\n",
    "\n",
    "    except ValueError as e:\n",
    "        print(f\"Input error: {e}\")\n",
    "    except Exception as e:\n",
    "        print(f\"Unexpected error: {e}\")\n",
    "    else: # using else\n",
    "        print(\"Transaction completed successfully.\")\n",
    "    finally: # using finally\n",
    "        print(\"Thank you for using our banking service!\")\n",
    "\n",
    "# Run the function\n",
    "banking_operations()\n"
   ]
  },
  {
   "cell_type": "code",
   "execution_count": 53,
   "id": "266bb5fa-d938-4f46-98ac-3b4afd66dc8f",
   "metadata": {
    "execution": {
     "iopub.execute_input": "2024-12-06T15:55:52.488116Z",
     "iopub.status.busy": "2024-12-06T15:55:52.488116Z",
     "iopub.status.idle": "2024-12-06T15:55:52.500106Z",
     "shell.execute_reply": "2024-12-06T15:55:52.497824Z",
     "shell.execute_reply.started": "2024-12-06T15:55:52.488116Z"
    }
   },
   "outputs": [
    {
     "name": "stdout",
     "output_type": "stream",
     "text": [
      "['ArithmeticError', 'AssertionError', 'AttributeError', 'BaseException', 'BaseExceptionGroup', 'BlockingIOError', 'BrokenPipeError', 'BufferError', 'BytesWarning', 'ChildProcessError', 'ConnectionAbortedError', 'ConnectionError', 'ConnectionRefusedError', 'ConnectionResetError', 'DeprecationWarning', 'EOFError', 'Ellipsis', 'EncodingWarning', 'EnvironmentError', 'Exception', 'ExceptionGroup', 'False', 'FileExistsError', 'FileNotFoundError', 'FloatingPointError', 'FutureWarning', 'GeneratorExit', 'IOError', 'ImportError', 'ImportWarning', 'IndentationError', 'IndexError', 'InterruptedError', 'IsADirectoryError', 'KeyError', 'KeyboardInterrupt', 'LookupError', 'MemoryError', 'ModuleNotFoundError', 'NameError', 'None', 'NotADirectoryError', 'NotImplemented', 'NotImplementedError', 'OSError', 'OverflowError', 'PendingDeprecationWarning', 'PermissionError', 'ProcessLookupError', 'RecursionError', 'ReferenceError', 'ResourceWarning', 'RuntimeError', 'RuntimeWarning', 'StopAsyncIteration', 'StopIteration', 'SyntaxError', 'SyntaxWarning', 'SystemError', 'SystemExit', 'TabError', 'TimeoutError', 'True', 'TypeError', 'UnboundLocalError', 'UnicodeDecodeError', 'UnicodeEncodeError', 'UnicodeError', 'UnicodeTranslateError', 'UnicodeWarning', 'UserWarning', 'ValueError', 'Warning', 'WindowsError', 'ZeroDivisionError', '__IPYTHON__', '__build_class__', '__debug__', '__doc__', '__import__', '__loader__', '__name__', '__package__', '__spec__', 'abs', 'aiter', 'all', 'anext', 'any', 'ascii', 'bin', 'bool', 'breakpoint', 'bytearray', 'bytes', 'callable', 'chr', 'classmethod', 'compile', 'complex', 'copyright', 'credits', 'delattr', 'dict', 'dir', 'display', 'divmod', 'enumerate', 'eval', 'exec', 'execfile', 'filter', 'float', 'format', 'frozenset', 'get_ipython', 'getattr', 'globals', 'hasattr', 'hash', 'help', 'hex', 'id', 'input', 'int', 'isinstance', 'issubclass', 'iter', 'len', 'license', 'list', 'locals', 'map', 'max', 'memoryview', 'min', 'next', 'object', 'oct', 'open', 'ord', 'pow', 'print', 'property', 'range', 'repr', 'reversed', 'round', 'runfile', 'set', 'setattr', 'slice', 'sorted', 'staticmethod', 'str', 'sum', 'super', 'tuple', 'type', 'vars', 'zip']\n"
     ]
    }
   ],
   "source": [
    "print(dir(builtins))"
   ]
  },
  {
   "cell_type": "code",
   "execution_count": null,
   "id": "b262ebc7-8cc8-43f7-860d-c0274b877b71",
   "metadata": {},
   "outputs": [],
   "source": []
  }
 ],
 "metadata": {
  "kernelspec": {
   "display_name": "Python 3 (ipykernel)",
   "language": "python",
   "name": "python3"
  },
  "language_info": {
   "codemirror_mode": {
    "name": "ipython",
    "version": 3
   },
   "file_extension": ".py",
   "mimetype": "text/x-python",
   "name": "python",
   "nbconvert_exporter": "python",
   "pygments_lexer": "ipython3",
   "version": "3.12.4"
  }
 },
 "nbformat": 4,
 "nbformat_minor": 5
}
