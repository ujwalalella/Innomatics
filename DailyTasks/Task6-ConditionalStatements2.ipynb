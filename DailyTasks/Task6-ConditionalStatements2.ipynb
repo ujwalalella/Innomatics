{
 "cells": [
  {
   "cell_type": "markdown",
   "id": "3003bd72-25b5-4648-84dc-f5bf4a7f4098",
   "metadata": {},
   "source": [
    "**Q1:** Write a program to accept a number from a user and  calculate the sum of all numbers from 1 to a given number."
   ]
  },
  {
   "cell_type": "code",
   "execution_count": 2,
   "id": "e43063c7-582d-44ad-ac64-ca59e7ec9d3e",
   "metadata": {},
   "outputs": [
    {
     "name": "stdin",
     "output_type": "stream",
     "text": [
      "Enter a number 3\n"
     ]
    },
    {
     "name": "stdout",
     "output_type": "stream",
     "text": [
      "6\n"
     ]
    }
   ],
   "source": [
    "num = int(input(\"Enter a number\"))\n",
    "sum = 0\n",
    "for i in range(1,num+1):\n",
    "    sum = sum + i\n",
    "print(sum)"
   ]
  },
  {
   "cell_type": "markdown",
   "id": "a1a1ab22-c2f3-4879-9f65-ead3a472c645",
   "metadata": {},
   "source": [
    "**Q2:** write a program to convert only odd indexed characters to lowercase."
   ]
  },
  {
   "cell_type": "code",
   "execution_count": 9,
   "id": "c801028a-dc29-4b34-bbc3-7d45bbbd7f87",
   "metadata": {},
   "outputs": [
    {
     "name": "stdout",
     "output_type": "stream",
     "text": [
      "pYtHoN PrOgRaM"
     ]
    }
   ],
   "source": [
    "str1 = 'PYTHON PROGRAM'\n",
    "for indx,val in enumerate(str1):\n",
    "    if (indx%2 != 0):\n",
    "        print(val,end='')\n",
    "    else:\n",
    "        print(val.lower(),end='')"
   ]
  },
  {
   "cell_type": "markdown",
   "id": "6118b4a1-99fc-4556-abcc-78af90a52b6f",
   "metadata": {},
   "source": [
    "**Q3:** Write a python program which will print the sum of the two numbers if the two numbers are even or it will print the difference of two numbers."
   ]
  },
  {
   "cell_type": "code",
   "execution_count": 14,
   "id": "8efee7e8-37e4-48d6-99b7-4cfd21f586d1",
   "metadata": {},
   "outputs": [
    {
     "name": "stdin",
     "output_type": "stream",
     "text": [
      "Enter first number: 3\n",
      "Enter second number: 4\n"
     ]
    },
    {
     "name": "stdout",
     "output_type": "stream",
     "text": [
      "1 is the difference\n"
     ]
    }
   ],
   "source": [
    "num1 = int(input(\"Enter first number:\"))\n",
    "num2 = int(input(\"Enter second number:\"))\n",
    "\n",
    "if (num1 %2 == 0 and num2 %2 == 0):\n",
    "    print(num1+num2,'is the sum')\n",
    "else:\n",
    "    if(num2 > num1):\n",
    "        print(num2-num1,'is the difference')\n",
    "    else:\n",
    "        print(num1-num2,'is the difference')"
   ]
  },
  {
   "cell_type": "markdown",
   "id": "f6b42104-35ee-473f-b3d6-b6f3f4ba2807",
   "metadata": {},
   "source": [
    "**Q4:** Write a program to print a multiplication table of a given  number."
   ]
  },
  {
   "cell_type": "code",
   "execution_count": 16,
   "id": "7c1a1ef3-540d-402b-9ca6-b4a3fae4a344",
   "metadata": {},
   "outputs": [
    {
     "name": "stdin",
     "output_type": "stream",
     "text": [
      "Enter a number: 21\n"
     ]
    },
    {
     "name": "stdout",
     "output_type": "stream",
     "text": [
      "21 x 1 = 21\n",
      "21 x 2 = 42\n",
      "21 x 3 = 63\n",
      "21 x 4 = 84\n",
      "21 x 5 = 105\n",
      "21 x 6 = 126\n",
      "21 x 7 = 147\n",
      "21 x 8 = 168\n",
      "21 x 9 = 189\n",
      "21 x 10 = 210\n"
     ]
    }
   ],
   "source": [
    "num = int(input(\"Enter a number:\"))\n",
    "for i in range(1,11):\n",
    "    print(f\"{num} x {i} = {num*i}\")"
   ]
  },
  {
   "cell_type": "markdown",
   "id": "c9b46daa-e868-46c5-a6aa-8da3fde6192a",
   "metadata": {},
   "source": [
    "**Q5:** Write a program to count the total number of digits in a  number."
   ]
  },
  {
   "cell_type": "code",
   "execution_count": 23,
   "id": "27b66eba-ce8f-44c4-ad6b-fb99faa91902",
   "metadata": {},
   "outputs": [
    {
     "name": "stdin",
     "output_type": "stream",
     "text": [
      "Enter a number: 1324\n"
     ]
    },
    {
     "name": "stdout",
     "output_type": "stream",
     "text": [
      "4\n"
     ]
    }
   ],
   "source": [
    "num = int(input(\"Enter a number:\"))\n",
    "count=0\n",
    "if (num==0):\n",
    "    count=1\n",
    "else:\n",
    "    while num > 0:\n",
    "        num //= 10  # Remove the last digit\n",
    "        count = count+1\n",
    "print(count)"
   ]
  },
  {
   "cell_type": "markdown",
   "id": "29ad4346-3631-49b1-9b43-8a79d1cdea2a",
   "metadata": {},
   "source": [
    "**Q6:** write a python program to create the total no of digits in a number .\n",
    "+ For example the number is 75869 so the output should be 5.for  abcdef5678 the  output should be 4.\n"
   ]
  },
  {
   "cell_type": "code",
   "execution_count": 1,
   "id": "30613a52-099e-4ec7-b21a-d95e20ad31b7",
   "metadata": {},
   "outputs": [
    {
     "name": "stdin",
     "output_type": "stream",
     "text": [
      "Enter a value bxst22487f\n"
     ]
    },
    {
     "name": "stdout",
     "output_type": "stream",
     "text": [
      "5\n"
     ]
    }
   ],
   "source": [
    "val = input('Enter a value')\n",
    "count = 0\n",
    "for i in val:\n",
    "    if i.isdigit():\n",
    "        count = count+1\n",
    "print(count)"
   ]
  },
  {
   "cell_type": "markdown",
   "id": "6c4d8a08-6d79-42ab-922d-c7a6b4dc4674",
   "metadata": {},
   "source": [
    "**Q7:** Write a Python program which iterates the integers from 1 to 60. For multiples of three print \"Fizz\" instead of the number and for the multiples of five print \"Buzz”."
   ]
  },
  {
   "cell_type": "code",
   "execution_count": 3,
   "id": "5f98ea6a-3abd-43ed-b15f-55312c5beaf8",
   "metadata": {},
   "outputs": [
    {
     "name": "stdout",
     "output_type": "stream",
     "text": [
      "1\n",
      "2\n",
      "Fizz\n",
      "4\n",
      "Buzz\n",
      "Fizz\n",
      "7\n",
      "8\n",
      "Fizz\n",
      "Buzz\n",
      "11\n",
      "Fizz\n",
      "13\n",
      "14\n",
      "Fizz,Buzz\n",
      "16\n",
      "17\n",
      "Fizz\n",
      "19\n",
      "Buzz\n",
      "Fizz\n",
      "22\n",
      "23\n",
      "Fizz\n",
      "Buzz\n",
      "26\n",
      "Fizz\n",
      "28\n",
      "29\n",
      "Fizz,Buzz\n",
      "31\n",
      "32\n",
      "Fizz\n",
      "34\n",
      "Buzz\n",
      "Fizz\n",
      "37\n",
      "38\n",
      "Fizz\n",
      "Buzz\n",
      "41\n",
      "Fizz\n",
      "43\n",
      "44\n",
      "Fizz,Buzz\n",
      "46\n",
      "47\n",
      "Fizz\n",
      "49\n",
      "Buzz\n",
      "Fizz\n",
      "52\n",
      "53\n",
      "Fizz\n",
      "Buzz\n",
      "56\n",
      "Fizz\n",
      "58\n",
      "59\n",
      "Fizz,Buzz\n"
     ]
    }
   ],
   "source": [
    "for i in range(1,61):\n",
    "    if i%3 == 0 and i%5==0:\n",
    "        print(\"Fizz,Buzz\")\n",
    "    elif i%3 == 0:\n",
    "        print(\"Fizz\")\n",
    "    elif i%5 == 0:\n",
    "        print(\"Buzz\")\n",
    "    else:\n",
    "        print(i)"
   ]
  },
  {
   "cell_type": "markdown",
   "id": "97e61a14-9fc6-4125-9d9f-f7ca41e8fa98",
   "metadata": {},
   "source": [
    "**Q8:** Write a Python program that accepts a string and calculates the number of digits and letters."
   ]
  },
  {
   "cell_type": "code",
   "execution_count": 7,
   "id": "04edc59f-8196-49dd-95e4-375b0659c0c6",
   "metadata": {},
   "outputs": [
    {
     "name": "stdin",
     "output_type": "stream",
     "text": [
      "Enter a value: Hello1234\n"
     ]
    },
    {
     "name": "stdout",
     "output_type": "stream",
     "text": [
      "No of digits : 4 and no of letters : 5\n"
     ]
    }
   ],
   "source": [
    "val = input(\"Enter a value:\")\n",
    "letter,digit = 0,0\n",
    "for i in val:\n",
    "    if i.isalpha():\n",
    "        letter += 1\n",
    "    else:\n",
    "        digit += 1\n",
    "print(f\"No of digits : {digit} and no of letters : {letter}\")"
   ]
  },
  {
   "cell_type": "markdown",
   "id": "6b5dc54c-d31e-4065-95a8-36e75fcce789",
   "metadata": {},
   "source": [
    "**Q9:** Write a Python program to check the validity of password input by users.Validation,\n",
    "+ At least 1 letter between [a-z] and 1 letter between [A-Z].,\n",
    "+ At least 1 number between [0-9].,\n",
    "+ At least 1 character from [$#@].,\n",
    "+ Minimum length 6 characters.,Maximum length 16 characters.\n"
   ]
  },
  {
   "cell_type": "code",
   "execution_count": 56,
   "id": "7b4c61ff-de73-40ea-829d-7a62f288cb65",
   "metadata": {},
   "outputs": [
    {
     "name": "stdin",
     "output_type": "stream",
     "text": [
      "Enter password:  Hello@123\n"
     ]
    },
    {
     "name": "stdout",
     "output_type": "stream",
     "text": [
      "Valid password\n"
     ]
    }
   ],
   "source": [
    "password = input(\"Enter password: \")\n",
    "lower, upper, digit, special = False, False, False, False\n",
    "\n",
    "if len(password) < 6 or len(password) > 16:\n",
    "    print(\"Invalid password: Must contain atleat 6 characters and atmost 18 characters\")\n",
    "else:\n",
    "    for i in password:\n",
    "        if i.islower():\n",
    "            lower = True\n",
    "        elif i.isupper():\n",
    "            upper = True\n",
    "        elif i.isdigit():\n",
    "            digit = True\n",
    "        elif i in ['$','#','@']:\n",
    "            special = True\n",
    "    if lower and upper and digit and special:\n",
    "            print(\"Valid password\")\n",
    "    else:\n",
    "        if lower == False:\n",
    "            print(\"Invalid password: Must contain atleast one lowercase letter\")\n",
    "        if upper == False:\n",
    "            print(\"Invalid password: Must contain atleast one uppercase letter\")\n",
    "        if digit == False:\n",
    "            print(\"Invalid password: Must contain atleast one digit\")\n",
    "        if special == False:\n",
    "            print(\"Invalid password: Must contain atleast one special character ($, #, or @)\")"
   ]
  },
  {
   "cell_type": "markdown",
   "id": "da6b3547-4e8b-445a-a913-56d4060a233c",
   "metadata": {},
   "source": [
    "**Q10:** Write a program in Python to reverse a word by using while loop,for loop."
   ]
  },
  {
   "cell_type": "code",
   "execution_count": 40,
   "id": "5ec1e1dc-a751-43f1-a022-58a78e38e1a1",
   "metadata": {},
   "outputs": [
    {
     "name": "stdout",
     "output_type": "stream",
     "text": [
      "olleH\n",
      "------------------------------------------------------------\n",
      "olleH\n"
     ]
    }
   ],
   "source": [
    "#using while loop\n",
    "word = 'Hello'\n",
    "rev = ''\n",
    "index = len(word)-1\n",
    "while index >= 0:\n",
    "    rev = rev + word[index]\n",
    "    index = index - 1\n",
    "print(rev)\n",
    "\n",
    "print('---'*20)\n",
    "\n",
    "#using for loop\n",
    "word = 'Hello'\n",
    "rev = ''\n",
    "for i in word:\n",
    "    rev = i + rev\n",
    "print(rev)"
   ]
  },
  {
   "cell_type": "markdown",
   "id": "0030d113-e519-4689-9860-3fe857456d3c",
   "metadata": {},
   "source": [
    "**Q11:** Write a program which takes 10 integers as input using loop and print their average value on the screen"
   ]
  },
  {
   "cell_type": "code",
   "execution_count": 53,
   "id": "cb863f2f-984f-454e-a7cc-921e7dccf5be",
   "metadata": {},
   "outputs": [
    {
     "name": "stdin",
     "output_type": "stream",
     "text": [
      "enter a number: 1\n",
      "enter a number: 2\n",
      "enter a number: 3\n",
      "enter a number: 4\n",
      "enter a number: 5\n",
      "enter a number: 6\n",
      "enter a number: 7\n",
      "enter a number: 8\n",
      "enter a number: 9\n",
      "enter a number: 10\n"
     ]
    },
    {
     "name": "stdout",
     "output_type": "stream",
     "text": [
      "5.5 is the average\n"
     ]
    }
   ],
   "source": [
    "num = 0\n",
    "for i in range(1,11):\n",
    "    a = int(input(\"enter a number:\"))\n",
    "    num = num + a\n",
    "print(f'{num/10} is the average')"
   ]
  }
 ],
 "metadata": {
  "kernelspec": {
   "display_name": "Python 3 (ipykernel)",
   "language": "python",
   "name": "python3"
  },
  "language_info": {
   "codemirror_mode": {
    "name": "ipython",
    "version": 3
   },
   "file_extension": ".py",
   "mimetype": "text/x-python",
   "name": "python",
   "nbconvert_exporter": "python",
   "pygments_lexer": "ipython3",
   "version": "3.12.4"
  }
 },
 "nbformat": 4,
 "nbformat_minor": 5
}
