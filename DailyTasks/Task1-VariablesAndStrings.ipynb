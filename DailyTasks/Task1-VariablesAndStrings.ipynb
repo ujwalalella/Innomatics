{
 "cells": [
  {
   "cell_type": "markdown",
   "id": "522a9804-5477-4fbc-97be-08546556984e",
   "metadata": {},
   "source": [
    "# Query1"
   ]
  },
  {
   "cell_type": "code",
   "execution_count": 3,
   "id": "a28eda29-986a-4d71-9121-451b6c4e9fb7",
   "metadata": {},
   "outputs": [
    {
     "name": "stdout",
     "output_type": "stream",
     "text": [
      "Sum of a and b is : 17\n",
      "Difference of a and b is : 7\n",
      "Product of a and b is : 60\n",
      "Quotient is : 2.4\n",
      "Modulus is : 2\n"
     ]
    }
   ],
   "source": [
    "#Define two variables, a and b, with values 12 and 5 respectively. \n",
    "#Write a Python program to calculate and print their sum, difference, product, quotient, and modulus.\n",
    "a, b = 12, 5\n",
    "sum = a + b\n",
    "diff = a - b\n",
    "prod = a * b\n",
    "quot = a / b\n",
    "mod = a % b\n",
    "\n",
    "print(f\"Sum of a and b is : {sum}\")\n",
    "print(f\"Difference of a and b is : {diff}\")\n",
    "print(f\"Product of a and b is : {prod}\")\n",
    "print(f\"Quotient is : {quot}\")\n",
    "print(f\"Modulus is : {mod}\")"
   ]
  },
  {
   "cell_type": "markdown",
   "id": "f771e9a5-f924-4eae-877e-aaf94caf8897",
   "metadata": {},
   "source": [
    "# Query2 "
   ]
  },
  {
   "cell_type": "code",
   "execution_count": 4,
   "id": "4c8ae831-5b13-43c4-91c3-6bd4bb86b4cc",
   "metadata": {},
   "outputs": [
    {
     "name": "stdout",
     "output_type": "stream",
     "text": [
      "Result of the given expression is : 20.0\n"
     ]
    }
   ],
   "source": [
    "#Write a Python program to evaluate the expression (8 + 2) * (3 - 1) ** 2 / 2 \n",
    "#explain how the use of parentheses affects the result using comments.\n",
    "exp = (8 + 2) * (3 - 1) ** 2 / 2\n",
    "print(f\"Result of the given expression is : {exp}\")"
   ]
  },
  {
   "cell_type": "markdown",
   "id": "3c125fbe-f758-4709-b3af-616f360b97f9",
   "metadata": {},
   "source": [
    "#### Explanation:"
   ]
  },
  {
   "cell_type": "code",
   "execution_count": 11,
   "id": "cb5c962c-27b1-4f8b-a766-7082bd22b34c",
   "metadata": {},
   "outputs": [],
   "source": [
    "# To evaluate an expression first we need to follow the **PEMDAS** rule. This rule states the order of operations : parenthesis, exponents, multiplication, division, addition, subtration.\n",
    "# By using this rule first we calculate all the values inside *parenthesis* (8+2)=(10) , (3-1)=(2)\n",
    "# now, we calculate *exponents* (3-1)**2 = 4\n",
    "# now, multiply : 10 * 4 = 40\n",
    "# finally divide it with 2 : 40 / 2 = 20 "
   ]
  },
  {
   "cell_type": "markdown",
   "id": "160f15a1-477e-4dea-9757-e772081bf4ac",
   "metadata": {},
   "source": [
    "# Query3 "
   ]
  },
  {
   "cell_type": "code",
   "execution_count": 9,
   "id": "136cc6af-46bc-468a-9560-ab1aa2b89e39",
   "metadata": {},
   "outputs": [
    {
     "name": "stdout",
     "output_type": "stream",
     "text": [
      "p and q is: False\n",
      "p or q is: True\n",
      "not r:  False\n"
     ]
    }
   ],
   "source": [
    "#Given three boolean variables, p = True, q = False, and r = True\n",
    "#write a Python program that evaluates and prints the result of the logical expressions p and q, p or q, and not r.\n",
    "p,q,r = True, False, True\n",
    "\n",
    "and_opp = p and q\n",
    "or_opp = p or q\n",
    "not_opp = not r\n",
    "\n",
    "print(\"p and q is:\",and_opp)\n",
    "print(\"p or q is:\",or_opp)\n",
    "print(\"not r: \",not_opp)"
   ]
  },
  {
   "cell_type": "markdown",
   "id": "8ed09be8-e0e6-4b25-b822-f1df322023cf",
   "metadata": {},
   "source": [
    "# Query4 "
   ]
  },
  {
   "cell_type": "code",
   "execution_count": 10,
   "id": "5c6b3ccf-bb96-476f-835c-e15dc7c23ddf",
   "metadata": {},
   "outputs": [
    {
     "name": "stdout",
     "output_type": "stream",
     "text": [
      "Result of the given expression is: -13.5\n"
     ]
    }
   ],
   "source": [
    "#Write a Python program to evaluate the expression 10 + 2 * 3 / 4 - 5 ** 2 and print the result.\n",
    "#Explain the order in which the operations are performed using comments.\n",
    "exp1 = 10 + 2 * 3 / 4 - 5 ** 2\n",
    "print(\"Result of the given expression is:\",exp1)"
   ]
  },
  {
   "cell_type": "markdown",
   "id": "4878ae2b-d267-454d-8fb8-6dce63cec97f",
   "metadata": {},
   "source": [
    "#### Explanation: "
   ]
  },
  {
   "cell_type": "code",
   "execution_count": 13,
   "id": "35278fbf-b749-485d-9a42-7531dae133e2",
   "metadata": {},
   "outputs": [],
   "source": [
    "# Using PEMDAS rule, since we don't have any parenthesis we calculate the exponent value : 5**2 = 25\n",
    "# Now, it does mutiplaction and then division : 2 * 3 = 6 , 6 / 4 = 1.5\n",
    "# Finally, addition and subtraction are done : 10 + 1.5 = 11.5 , 11.5 - 25 = -13.5"
   ]
  },
  {
   "cell_type": "markdown",
   "id": "8f7247e8-7b12-45ed-9a84-fa3aa9d2fa6c",
   "metadata": {},
   "source": [
    "# Query5 "
   ]
  },
  {
   "cell_type": "markdown",
   "id": "c31ce257-7bae-4572-a503-9e353a67c6d5",
   "metadata": {},
   "source": [
    "### Part-A: "
   ]
  },
  {
   "cell_type": "code",
   "execution_count": 19,
   "id": "cf8b088b-d156-4251-9a4b-38dcf96e0463",
   "metadata": {},
   "outputs": [
    {
     "name": "stdout",
     "output_type": "stream",
     "text": [
      "revolves\n",
      "sun\n"
     ]
    }
   ],
   "source": [
    "#Create a variable to store the string \"Earth revolves around the sun\"\n",
    "#Print \"revolves\" using slice operator\n",
    "#Print \"sun\" using negative index\n",
    "\n",
    "var1 = \"Earth revolves around the sun\"\n",
    "print(var1[6:14])\n",
    "print(var1[-3:])"
   ]
  },
  {
   "cell_type": "markdown",
   "id": "0ee435ce-246d-4e9c-a702-6f4f67db6409",
   "metadata": {},
   "source": [
    "### Part-B:"
   ]
  },
  {
   "cell_type": "code",
   "execution_count": 34,
   "id": "d82c8b48-2248-4946-a122-aaeaa0ac5ed6",
   "metadata": {},
   "outputs": [
    {
     "name": "stdout",
     "output_type": "stream",
     "text": [
      "gn\n"
     ]
    }
   ],
   "source": [
    "# Create a string made of the middle two characters.\n",
    "# Example input: Innomatics\n",
    "# Example output: ma\n",
    "\n",
    "str1 = \"Assignment\"\n",
    "mid_value = len(str1) // 2\n",
    "middle_two_values = str1[mid_value - 1 : mid_value + 1]\n",
    "print(middle_two_values)"
   ]
  },
  {
   "cell_type": "markdown",
   "id": "23bb64c1-1c92-4c83-afc1-1ca6160e9318",
   "metadata": {},
   "source": [
    "# Query6"
   ]
  },
  {
   "cell_type": "code",
   "execution_count": 37,
   "id": "932453bb-420e-453d-834e-f56bb9eec068",
   "metadata": {},
   "outputs": [
    {
     "name": "stdout",
     "output_type": "stream",
     "text": [
      "Hiy\n"
     ]
    }
   ],
   "source": [
    "# Write a program to create a new string made of an input string’s first, middle, and last character.\n",
    "# Example input: Holiday\n",
    "# Example output: Hiy\n",
    "\n",
    "str2=\"Holiday\"\n",
    "first_char = str2[0]\n",
    "mid_char = str2[len(str2)//2]\n",
    "last_char = str2[len(str2)-1]\n",
    "\n",
    "new_str = first_char + mid_char + last_char\n",
    "print(new_str)"
   ]
  },
  {
   "cell_type": "markdown",
   "id": "aa3afd70-7548-45a9-b73d-cbd35a030098",
   "metadata": {},
   "source": [
    "# Query7 "
   ]
  },
  {
   "cell_type": "code",
   "execution_count": 48,
   "id": "9e457ddc-7e33-438f-94a8-8a01c3fb9df7",
   "metadata": {},
   "outputs": [
    {
     "name": "stdout",
     "output_type": "stream",
     "text": [
      "['__add__', '__class__', '__contains__', '__delattr__', '__dir__', '__doc__', '__eq__', '__format__', '__ge__', '__getattribute__', '__getitem__', '__getnewargs__', '__getstate__', '__gt__', '__hash__', '__init__', '__init_subclass__', '__iter__', '__le__', '__len__', '__lt__', '__mod__', '__mul__', '__ne__', '__new__', '__reduce__', '__reduce_ex__', '__repr__', '__rmod__', '__rmul__', '__setattr__', '__sizeof__', '__str__', '__subclasshook__', 'capitalize', 'casefold', 'center', 'count', 'encode', 'endswith', 'expandtabs', 'find', 'format', 'format_map', 'index', 'isalnum', 'isalpha', 'isascii', 'isdecimal', 'isdigit', 'isidentifier', 'islower', 'isnumeric', 'isprintable', 'isspace', 'istitle', 'isupper', 'join', 'ljust', 'lower', 'lstrip', 'maketrans', 'partition', 'removeprefix', 'removesuffix', 'replace', 'rfind', 'rindex', 'rjust', 'rpartition', 'rsplit', 'rstrip', 'split', 'splitlines', 'startswith', 'strip', 'swapcase', 'title', 'translate', 'upper', 'zfill']\n"
     ]
    }
   ],
   "source": [
    "# Explore five different string methods and explain with examples.\n",
    "print(dir(str))"
   ]
  },
  {
   "cell_type": "code",
   "execution_count": 47,
   "id": "916c28cc-6182-49cd-8604-be9e4d4b669f",
   "metadata": {},
   "outputs": [
    {
     "name": "stdout",
     "output_type": "stream",
     "text": [
      "Python profram\n",
      "1\n",
      "2\n",
      "Python Program\n",
      "pYTHON PROGRAM\n"
     ]
    }
   ],
   "source": [
    "str3=\"Python program\"\n",
    "\n",
    "#replace method is used to replace the old substring with new one\n",
    "print(str3.replace('g','f'))\n",
    "\n",
    "#find is used to find the given substring and return its lowest index value as a output\n",
    "print(str3.find('y'))\n",
    "\n",
    "#count is used to count the occurrences of a substring\n",
    "print(str3.count('o'))\n",
    "\n",
    "#title returns a string where the first character in every word is upper case.\n",
    "print(str3.title())\n",
    "\n",
    "#swapcase returns the string by converting all the characters to their opposite letter case\n",
    "print(str3.swapcase())"
   ]
  },
  {
   "cell_type": "markdown",
   "id": "cb5bf67c-d968-492e-bc60-8e993a9dc4eb",
   "metadata": {},
   "source": [
    "# Query8"
   ]
  },
  {
   "cell_type": "code",
   "execution_count": 53,
   "id": "b7dbc82d-e147-4507-8dbc-d4fbef790ffb",
   "metadata": {},
   "outputs": [
    {
     "name": "stdout",
     "output_type": "stream",
     "text": [
      "Give papa a cup of proper tea in a copper tea cup\n",
      "False\n",
      "True\n",
      "Give Papa A Cup Of Proper Coffee In A Copper Coffee Cup\n",
      "GIVE PAPA A CUP OF PROPER COFFEE IN A COPPER COFFEE CUP\n"
     ]
    }
   ],
   "source": [
    "# Write a program that takes a sentence ='Give papa a cup of proper coffee in a copper coffee cup' as input and replaces all occurrences of the word \"coffee\" with \"tea\".\n",
    "# Check if the above sentence starts with \"Hello\" and ends with \"cup\". \n",
    "# Return the above sentence in title case and capital case.\n",
    "\n",
    "str4 = 'Give papa a cup of proper coffee in a copper coffee cup'\n",
    "\n",
    "print(str4.replace('coffee','tea'))\n",
    "\n",
    "print(str4.startswith('Hello'))\n",
    "print(str4.endswith('cup'))\n",
    "\n",
    "print(str4.title())\n",
    "print(str4.upper())"
   ]
  }
 ],
 "metadata": {
  "kernelspec": {
   "display_name": "Python 3 (ipykernel)",
   "language": "python",
   "name": "python3"
  },
  "language_info": {
   "codemirror_mode": {
    "name": "ipython",
    "version": 3
   },
   "file_extension": ".py",
   "mimetype": "text/x-python",
   "name": "python",
   "nbconvert_exporter": "python",
   "pygments_lexer": "ipython3",
   "version": "3.12.4"
  }
 },
 "nbformat": 4,
 "nbformat_minor": 5
}
