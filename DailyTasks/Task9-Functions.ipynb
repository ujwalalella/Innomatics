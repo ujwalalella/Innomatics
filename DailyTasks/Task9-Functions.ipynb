{
 "cells": [
  {
   "cell_type": "markdown",
   "id": "4e0e0e80-6cd9-4ee7-b4d5-63065fda6797",
   "metadata": {},
   "source": [
    "**Q1:** Write a function square(x) that returns the square of the number x."
   ]
  },
  {
   "cell_type": "code",
   "execution_count": 10,
   "id": "15df458e-42e5-4f87-a8d0-c54530a2f11b",
   "metadata": {
    "execution": {
     "iopub.execute_input": "2024-11-30T06:27:04.658617Z",
     "iopub.status.busy": "2024-11-30T06:27:04.658617Z",
     "iopub.status.idle": "2024-11-30T06:27:06.714443Z",
     "shell.execute_reply": "2024-11-30T06:27:06.714443Z",
     "shell.execute_reply.started": "2024-11-30T06:27:04.658617Z"
    }
   },
   "outputs": [
    {
     "name": "stdin",
     "output_type": "stream",
     "text": [
      "Enter a number 3\n"
     ]
    },
    {
     "data": {
      "text/plain": [
       "9"
      ]
     },
     "execution_count": 10,
     "metadata": {},
     "output_type": "execute_result"
    }
   ],
   "source": [
    "num = int(input(\"Enter a number\"))\n",
    "def udf_square(num):\n",
    "    sqr = (num**2)\n",
    "    return sqr\n",
    "udf_square(num)"
   ]
  },
  {
   "cell_type": "markdown",
   "id": "15e4cb87-dc4b-43d3-ae85-c7bd7306b08c",
   "metadata": {},
   "source": [
    "**Q2:** Write a function to_uppercase(s) that converts all characters in a string s to uppercase"
   ]
  },
  {
   "cell_type": "code",
   "execution_count": 12,
   "id": "350ce4eb-8952-4095-863b-c6709836a47b",
   "metadata": {
    "execution": {
     "iopub.execute_input": "2024-11-30T06:29:53.890591Z",
     "iopub.status.busy": "2024-11-30T06:29:53.890591Z",
     "iopub.status.idle": "2024-11-30T06:29:56.858912Z",
     "shell.execute_reply": "2024-11-30T06:29:56.857442Z",
     "shell.execute_reply.started": "2024-11-30T06:29:53.890591Z"
    }
   },
   "outputs": [
    {
     "name": "stdin",
     "output_type": "stream",
     "text": [
      "Enter a string: hii\n"
     ]
    },
    {
     "name": "stdout",
     "output_type": "stream",
     "text": [
      "HII\n"
     ]
    }
   ],
   "source": [
    "str1 = input(\"Enter a string:\")\n",
    "def to_uppercase(str1):\n",
    "    str_upper = str1.upper()\n",
    "    print(str_upper)\n",
    "to_uppercase(str1)"
   ]
  },
  {
   "cell_type": "markdown",
   "id": "c8fd3042-70e0-4e92-840b-f70a2c8f1cf5",
   "metadata": {},
   "source": [
    "**Q3:** Write a function find_max(a, b) that returns the maximum of two numbers a and b"
   ]
  },
  {
   "cell_type": "code",
   "execution_count": 13,
   "id": "48e91dfe-a1ec-434c-94a7-2c10e7f5cac2",
   "metadata": {
    "execution": {
     "iopub.execute_input": "2024-11-30T06:35:24.607220Z",
     "iopub.status.busy": "2024-11-30T06:35:24.607220Z",
     "iopub.status.idle": "2024-11-30T06:35:27.783714Z",
     "shell.execute_reply": "2024-11-30T06:35:27.782880Z",
     "shell.execute_reply.started": "2024-11-30T06:35:24.607220Z"
    }
   },
   "outputs": [
    {
     "name": "stdin",
     "output_type": "stream",
     "text": [
      "Enter 1st number: 3\n",
      "Enter 2nd number: 4\n"
     ]
    },
    {
     "data": {
      "text/plain": [
       "'4 is max'"
      ]
     },
     "execution_count": 13,
     "metadata": {},
     "output_type": "execute_result"
    }
   ],
   "source": [
    "a = int(input(\"Enter 1st number:\"))\n",
    "b = int(input(\"Enter 2nd number:\"))\n",
    "\n",
    "def find_max(a,b):\n",
    "    if a>b :\n",
    "        return(f'{a} is max')\n",
    "    elif b>a:\n",
    "        return(f'{b} is max')\n",
    "    else:\n",
    "        return('Both are same')\n",
    "find_max(a,b)     \n",
    "\n",
    "# or we can also do this\n",
    "# def find_max(a,b):\n",
    "#     return(max(a,b))"
   ]
  },
  {
   "cell_type": "markdown",
   "id": "4ba5922f-afaa-4a4e-a4c7-41c1a940ba68",
   "metadata": {},
   "source": [
    "**Q4:** Write a function count_vowels(s) that returns the number of vowels (a, e, i, o, u) in a string s."
   ]
  },
  {
   "cell_type": "code",
   "execution_count": 16,
   "id": "d727e72c-f0c3-4881-aa21-ad068bf9d9eb",
   "metadata": {
    "execution": {
     "iopub.execute_input": "2024-11-30T06:39:33.374864Z",
     "iopub.status.busy": "2024-11-30T06:39:33.374864Z",
     "iopub.status.idle": "2024-11-30T06:39:37.352019Z",
     "shell.execute_reply": "2024-11-30T06:39:37.352019Z",
     "shell.execute_reply.started": "2024-11-30T06:39:33.374864Z"
    }
   },
   "outputs": [
    {
     "name": "stdin",
     "output_type": "stream",
     "text": [
      "Enter a string Ujwala\n"
     ]
    },
    {
     "data": {
      "text/plain": [
       "3"
      ]
     },
     "execution_count": 16,
     "metadata": {},
     "output_type": "execute_result"
    }
   ],
   "source": [
    "str2 = input(\"Enter a string\")\n",
    "def count_vowels(str2):\n",
    "    count = 0\n",
    "    for i in str2.lower():\n",
    "        if i in ['a','e','i','o','u']:\n",
    "            count = count+1\n",
    "    return count\n",
    "count_vowels(str2)"
   ]
  },
  {
   "cell_type": "markdown",
   "id": "02482f10-ffda-4a32-9542-78e30298ae18",
   "metadata": {},
   "source": [
    "**Q5:** Write a function concat_strings(s1, s2) that returns the concatenation of two strings s1 and s2."
   ]
  },
  {
   "cell_type": "code",
   "execution_count": 17,
   "id": "eca378a2-a718-41de-a7ce-f0550a7e0426",
   "metadata": {
    "execution": {
     "iopub.execute_input": "2024-11-30T06:43:09.822208Z",
     "iopub.status.busy": "2024-11-30T06:43:09.822208Z",
     "iopub.status.idle": "2024-11-30T06:43:24.816669Z",
     "shell.execute_reply": "2024-11-30T06:43:24.816669Z",
     "shell.execute_reply.started": "2024-11-30T06:43:09.822208Z"
    }
   },
   "outputs": [
    {
     "name": "stdin",
     "output_type": "stream",
     "text": [
      "Enter a string Hii\n",
      "Enter 2nd string Hello\n"
     ]
    },
    {
     "data": {
      "text/plain": [
       "'HiiHello'"
      ]
     },
     "execution_count": 17,
     "metadata": {},
     "output_type": "execute_result"
    }
   ],
   "source": [
    "str1 = input(\"Enter a string\")\n",
    "str2 = input(\"Enter 2nd string\")\n",
    "def concat_strings(str1,str2):\n",
    "    final_str = str1 + str2\n",
    "    return final_str\n",
    "concat_strings(str1,str2)"
   ]
  },
  {
   "cell_type": "markdown",
   "id": "dd491fab-97d9-496e-ae44-dc021730f234",
   "metadata": {},
   "source": [
    "**Q6:** Write a function remove_duplicates(lst) that takes a list lst and returns a new list with duplicate elements removed."
   ]
  },
  {
   "cell_type": "code",
   "execution_count": 21,
   "id": "385b92f4-53de-41ee-85eb-fdf4d9b06acb",
   "metadata": {
    "execution": {
     "iopub.execute_input": "2024-11-30T06:56:53.959368Z",
     "iopub.status.busy": "2024-11-30T06:56:53.959368Z",
     "iopub.status.idle": "2024-11-30T06:56:53.978273Z",
     "shell.execute_reply": "2024-11-30T06:56:53.977269Z",
     "shell.execute_reply.started": "2024-11-30T06:56:53.959368Z"
    }
   },
   "outputs": [
    {
     "data": {
      "text/plain": [
       "[1, 2, 3, 4, 65, 6, 9]"
      ]
     },
     "execution_count": 21,
     "metadata": {},
     "output_type": "execute_result"
    }
   ],
   "source": [
    "lst = [1,2,3,1,4,2,65,2,6,9,3]\n",
    "lst2 = []\n",
    "def remove_duplicates2(lst):\n",
    "    for i in lst:\n",
    "        if i not in lst2:\n",
    "            lst2.append(i)\n",
    "    return lst2\n",
    "remove_duplicates2(lst)\n",
    "\n",
    "# or we can also do it in this way\n",
    "\n",
    "# def remove_duplicates(lst):\n",
    "#     return(list(set(lst)))\n",
    "# remove_duplicates(lst)"
   ]
  },
  {
   "cell_type": "markdown",
   "id": "ef798789-52ec-42b6-8dc8-323b1b8f8898",
   "metadata": {},
   "source": [
    "**Q7:** Write a function char_frequency(s) that returns a dictionary where the keys are characters in the string s and the values are the number of times each character appears."
   ]
  },
  {
   "cell_type": "code",
   "execution_count": 26,
   "id": "cb762ffa-d173-4803-909c-8937738fa56b",
   "metadata": {
    "execution": {
     "iopub.execute_input": "2024-11-30T07:11:51.105486Z",
     "iopub.status.busy": "2024-11-30T07:11:51.105486Z",
     "iopub.status.idle": "2024-11-30T07:11:55.962693Z",
     "shell.execute_reply": "2024-11-30T07:11:55.961499Z",
     "shell.execute_reply.started": "2024-11-30T07:11:51.105486Z"
    }
   },
   "outputs": [
    {
     "name": "stdin",
     "output_type": "stream",
     "text": [
      "Enter a string Innomatics\n"
     ]
    },
    {
     "data": {
      "text/plain": [
       "{'I': 1, 'n': 2, 'o': 1, 'm': 1, 'a': 1, 't': 1, 'i': 1, 'c': 1, 's': 1}"
      ]
     },
     "execution_count": 26,
     "metadata": {},
     "output_type": "execute_result"
    }
   ],
   "source": [
    "s = input(\"Enter a string\")\n",
    "def char_frequency(s):\n",
    "    frequency = {}\n",
    "    for char in s:\n",
    "        if char in frequency:\n",
    "            frequency[char] += 1\n",
    "        else:\n",
    "             frequency[char] = 1\n",
    "    return frequency\n",
    "char_frequency(s)"
   ]
  },
  {
   "cell_type": "markdown",
   "id": "72226d0d-63c0-412b-9b08-53f7a44e2d0f",
   "metadata": {},
   "source": [
    "**Q8:** Write a function sum_even_numbers(lst) that returns the sum of all even numbers in a list lst."
   ]
  },
  {
   "cell_type": "code",
   "execution_count": 28,
   "id": "aa9a0a29-e302-463f-95c5-0630365cf20f",
   "metadata": {
    "execution": {
     "iopub.execute_input": "2024-11-30T07:12:13.604924Z",
     "iopub.status.busy": "2024-11-30T07:12:13.604924Z",
     "iopub.status.idle": "2024-11-30T07:12:13.614245Z",
     "shell.execute_reply": "2024-11-30T07:12:13.613648Z",
     "shell.execute_reply.started": "2024-11-30T07:12:13.604924Z"
    }
   },
   "outputs": [
    {
     "data": {
      "text/plain": [
       "14"
      ]
     },
     "execution_count": 28,
     "metadata": {},
     "output_type": "execute_result"
    }
   ],
   "source": [
    "lst = [1,2,3,4,5,2,6,9,5]\n",
    "def sum_even_numbers(lst):\n",
    "    sum_even = 0\n",
    "    for i in lst:\n",
    "        if i%2==0:\n",
    "            sum_even += i\n",
    "    return sum_even\n",
    "sum_even_numbers(lst)"
   ]
  },
  {
   "cell_type": "markdown",
   "id": "07cda790-a384-48a2-9bf8-62da55af5161",
   "metadata": {},
   "source": [
    "**Q9:** Using in-built function filter() with a lambda function filter even numbers from a given list."
   ]
  },
  {
   "cell_type": "code",
   "execution_count": 32,
   "id": "2a677fa3-a417-48b8-b579-5b94f6d65b64",
   "metadata": {
    "execution": {
     "iopub.execute_input": "2024-11-30T07:16:39.001850Z",
     "iopub.status.busy": "2024-11-30T07:16:39.000569Z",
     "iopub.status.idle": "2024-11-30T07:16:39.006500Z",
     "shell.execute_reply": "2024-11-30T07:16:39.005438Z",
     "shell.execute_reply.started": "2024-11-30T07:16:39.001850Z"
    }
   },
   "outputs": [
    {
     "name": "stdout",
     "output_type": "stream",
     "text": [
      "[20, 32, 72, 84]\n"
     ]
    }
   ],
   "source": [
    "num = [17, 20, 32, 45, 53, 61, 72, 84, 97]\n",
    "even_number = list(filter(lambda i:i%2==0, num))\n",
    "print(even_number)"
   ]
  },
  {
   "cell_type": "markdown",
   "id": "82b309f8-4047-4bd4-9b2b-0d79d0378fdf",
   "metadata": {},
   "source": [
    "**Q10:** Write a Python function to find the maximum of three numbers."
   ]
  },
  {
   "cell_type": "code",
   "execution_count": 52,
   "id": "9fce0b0f-5a5d-491b-b10a-b2c6ae89c3ab",
   "metadata": {
    "execution": {
     "iopub.execute_input": "2024-11-30T09:11:13.195747Z",
     "iopub.status.busy": "2024-11-30T09:11:13.195747Z",
     "iopub.status.idle": "2024-11-30T09:11:17.959835Z",
     "shell.execute_reply": "2024-11-30T09:11:17.959835Z",
     "shell.execute_reply.started": "2024-11-30T09:11:13.195747Z"
    }
   },
   "outputs": [
    {
     "name": "stdin",
     "output_type": "stream",
     "text": [
      "Enter a value 4\n",
      "Enter b value 5\n",
      "Enter c value 3\n"
     ]
    },
    {
     "name": "stdout",
     "output_type": "stream",
     "text": [
      "5 is max\n"
     ]
    }
   ],
   "source": [
    "a,b,c = int(input(\"Enter a value\")), int(input(\"Enter b value\")), int(input(\"Enter c value\"))\n",
    "def find_max_3(a,b,c):\n",
    "    if a>b:\n",
    "        if a>c:\n",
    "            print(f'{a} is max')\n",
    "        else:\n",
    "            print(f'{c} is max')\n",
    "    elif b>a:\n",
    "        if b>c:\n",
    "            print(f'{b} is max')\n",
    "        else:\n",
    "            print(f'{c} is max')\n",
    "    elif a==b:\n",
    "        if a>c:\n",
    "            print(f'{a} is max')\n",
    "        elif a==c:\n",
    "            print('a,b,c are same')\n",
    "        else:\n",
    "            print(f'{c} is max')\n",
    "find_max_3(a,b,c)\n",
    "\n",
    "# or we can directly use max function\n",
    "#def find_max_3(a,b,c):\n",
    "#    return(max(a,b,c))"
   ]
  },
  {
   "cell_type": "markdown",
   "id": "8c9f08e7-8ed9-4a05-989f-8c2d22a08601",
   "metadata": {},
   "source": [
    "**Q11:** Write a Python function to check whether a number falls within a given range."
   ]
  },
  {
   "cell_type": "code",
   "execution_count": 51,
   "id": "9eb3a707-12d8-4d94-a5f9-bbfdfaa5b970",
   "metadata": {
    "execution": {
     "iopub.execute_input": "2024-11-30T09:01:32.172012Z",
     "iopub.status.busy": "2024-11-30T09:01:32.172012Z",
     "iopub.status.idle": "2024-11-30T09:02:55.595478Z",
     "shell.execute_reply": "2024-11-30T09:02:55.593371Z",
     "shell.execute_reply.started": "2024-11-30T09:01:32.172012Z"
    }
   },
   "outputs": [
    {
     "name": "stdin",
     "output_type": "stream",
     "text": [
      "Enter a number to check 29\n"
     ]
    },
    {
     "name": "stdout",
     "output_type": "stream",
     "text": [
      "Number 29 falls under the given range 14-60.\n"
     ]
    }
   ],
   "source": [
    "def in_range(start,num,end):\n",
    "    if start<=num<=end :\n",
    "        print(f'Number {num} falls under the given range {start}-{end}.')\n",
    "start = 14\n",
    "end = 60\n",
    "num = int(input(\"Enter a number to check\"))\n",
    "in_range(start,num,end)"
   ]
  },
  {
   "cell_type": "markdown",
   "id": "f004eb9b-d02f-43a0-a098-3c1385c4d737",
   "metadata": {},
   "source": [
    "**Q12:** Write a Python function that takes a list and returns a new list with distinct elements from the first list."
   ]
  },
  {
   "cell_type": "code",
   "execution_count": 55,
   "id": "98f263cf-e613-4ec4-95fe-e7312b833541",
   "metadata": {
    "execution": {
     "iopub.execute_input": "2024-11-30T09:15:37.948577Z",
     "iopub.status.busy": "2024-11-30T09:15:37.948577Z",
     "iopub.status.idle": "2024-11-30T09:15:37.962797Z",
     "shell.execute_reply": "2024-11-30T09:15:37.960957Z",
     "shell.execute_reply.started": "2024-11-30T09:15:37.948577Z"
    }
   },
   "outputs": [
    {
     "data": {
      "text/plain": [
       "[1, 2, 3, 1.5, 5, 'pink', 'black', 'orange']"
      ]
     },
     "execution_count": 55,
     "metadata": {},
     "output_type": "execute_result"
    }
   ],
   "source": [
    "def distinct_ele(lst):\n",
    "    return(list(set(lst)))\n",
    "lst = [1,3,2,3,1.5,1,5,1,'pink','orange','black','pink']\n",
    "distinct_ele(lst)"
   ]
  },
  {
   "cell_type": "markdown",
   "id": "5d18575e-07f2-4a3a-a42b-dee0580f56c3",
   "metadata": {},
   "source": [
    "**Q13:** Say, a=27, b=15. Create a lambda function that multiplies argument 'a' with argument 'b' and prints the result."
   ]
  },
  {
   "cell_type": "code",
   "execution_count": 63,
   "id": "fd106cd3-ae87-4bc0-9567-0f6a8126b2c9",
   "metadata": {
    "execution": {
     "iopub.execute_input": "2024-11-30T09:25:38.517960Z",
     "iopub.status.busy": "2024-11-30T09:25:38.517960Z",
     "iopub.status.idle": "2024-11-30T09:25:38.531090Z",
     "shell.execute_reply": "2024-11-30T09:25:38.531090Z",
     "shell.execute_reply.started": "2024-11-30T09:25:38.517960Z"
    }
   },
   "outputs": [
    {
     "data": {
      "text/plain": [
       "405"
      ]
     },
     "execution_count": 63,
     "metadata": {},
     "output_type": "execute_result"
    }
   ],
   "source": [
    "a=27\n",
    "b=15\n",
    "mul = (lambda a, b: a * b)\n",
    "mul(a,b)"
   ]
  },
  {
   "cell_type": "markdown",
   "id": "0c769c57-7862-4854-b4f0-83e13bfbc626",
   "metadata": {},
   "source": [
    "**Q14:** Use map() with a lambda function to square each element of a given list.\n",
    "list1 = [32,45,67,83,2,4,8,10]"
   ]
  },
  {
   "cell_type": "code",
   "execution_count": 66,
   "id": "cfbb8469-ca6c-4099-b3b9-4742e9689fa6",
   "metadata": {
    "execution": {
     "iopub.execute_input": "2024-11-30T09:29:30.928098Z",
     "iopub.status.busy": "2024-11-30T09:29:30.928098Z",
     "iopub.status.idle": "2024-11-30T09:29:30.944346Z",
     "shell.execute_reply": "2024-11-30T09:29:30.941333Z",
     "shell.execute_reply.started": "2024-11-30T09:29:30.928098Z"
    }
   },
   "outputs": [
    {
     "name": "stdout",
     "output_type": "stream",
     "text": [
      "[1024, 2025, 4489, 6889, 4, 16, 64, 100]\n"
     ]
    }
   ],
   "source": [
    "list1 = [32,45,67,83,2,4,8,10]\n",
    "square_list =list(map(lambda i:i**2 , list1))\n",
    "print(square_list)"
   ]
  },
  {
   "cell_type": "markdown",
   "id": "85ac0bb0-6f10-41a9-a5ca-417c8bab0ea2",
   "metadata": {},
   "source": [
    "**Q15:** Filter the palindromes from a given iterable.  \n",
    "list2= [Java, mom, dad, nun, python] \n",
    "Expected o/p : [ mom, dad ,nun] "
   ]
  },
  {
   "cell_type": "code",
   "execution_count": 68,
   "id": "7ce8b2f5-a3dd-4a5a-ad93-d17466540cdf",
   "metadata": {
    "execution": {
     "iopub.execute_input": "2024-11-30T09:31:57.038142Z",
     "iopub.status.busy": "2024-11-30T09:31:57.036614Z",
     "iopub.status.idle": "2024-11-30T09:31:57.047791Z",
     "shell.execute_reply": "2024-11-30T09:31:57.046776Z",
     "shell.execute_reply.started": "2024-11-30T09:31:57.038142Z"
    }
   },
   "outputs": [
    {
     "name": "stdout",
     "output_type": "stream",
     "text": [
      "['mom', 'dad', 'nun']\n"
     ]
    }
   ],
   "source": [
    "list2= ['Java', 'mom', 'dad', 'nun', 'python'] \n",
    "palindrome = list(filter(lambda i:i==i[::-1], list2))\n",
    "print(palindrome)"
   ]
  },
  {
   "cell_type": "markdown",
   "id": "e9fd570e-6ec3-4311-8961-6d0debb93930",
   "metadata": {},
   "source": [
    "**Q16:** Use a lambda function to create a grade list from a list of student scores.\n",
    "```\n",
    "scores = [88, 92, 78, 95, 86] \n",
    "A grade if score greater than 90 \n",
    "B grade if score greater than 80 \n",
    "else grade C.\n",
    "Expected Output: grade= ['B', 'A', 'C', 'A', 'B']\n",
    "```"
   ]
  },
  {
   "cell_type": "code",
   "execution_count": 76,
   "id": "a4b57992-b266-4f39-9e6a-080dcfefc236",
   "metadata": {
    "execution": {
     "iopub.execute_input": "2024-11-30T09:40:20.688806Z",
     "iopub.status.busy": "2024-11-30T09:40:20.681114Z",
     "iopub.status.idle": "2024-11-30T09:40:20.705136Z",
     "shell.execute_reply": "2024-11-30T09:40:20.704099Z",
     "shell.execute_reply.started": "2024-11-30T09:40:20.688806Z"
    }
   },
   "outputs": [
    {
     "name": "stdout",
     "output_type": "stream",
     "text": [
      "['B', 'A', 'C', 'A', 'B']\n"
     ]
    }
   ],
   "source": [
    "scores = [88, 92, 78, 95, 86] \n",
    "get_grade = lambda i:'A' if i > 90 else ('B' if i > 80 else 'C')\n",
    "Grade = [get_grade(i) for i in scores]\n",
    "print(Grade)"
   ]
  },
  {
   "cell_type": "code",
   "execution_count": null,
   "id": "be4e641a-dec0-4b8b-9bfc-c9f057deb2a6",
   "metadata": {},
   "outputs": [],
   "source": []
  }
 ],
 "metadata": {
  "kernelspec": {
   "display_name": "Python 3 (ipykernel)",
   "language": "python",
   "name": "python3"
  },
  "language_info": {
   "codemirror_mode": {
    "name": "ipython",
    "version": 3
   },
   "file_extension": ".py",
   "mimetype": "text/x-python",
   "name": "python",
   "nbconvert_exporter": "python",
   "pygments_lexer": "ipython3",
   "version": "3.12.4"
  }
 },
 "nbformat": 4,
 "nbformat_minor": 5
}
