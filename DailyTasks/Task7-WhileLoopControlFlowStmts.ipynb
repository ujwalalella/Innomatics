{
 "cells": [
  {
   "cell_type": "markdown",
   "id": "3e6af80f-2ecc-41fb-890b-eb067dc5ce59",
   "metadata": {},
   "source": [
    "**Q1:**  Calculate the product of numbers from 1 to 100 using a while loop."
   ]
  },
  {
   "cell_type": "code",
   "execution_count": 11,
   "id": "9aba0246-7426-40af-bfe6-1baa82574349",
   "metadata": {},
   "outputs": [
    {
     "name": "stdout",
     "output_type": "stream",
     "text": [
      "93326215443944152681699238856266700490715968264381621468592963895217599993229915608941463976156518286253697920827223758251185210916864000000000000000000000000\n"
     ]
    }
   ],
   "source": [
    "i = 1\n",
    "product = 1\n",
    "while i<=100:\n",
    "    product = product*i\n",
    "    i = i+1\n",
    "print(product)"
   ]
  },
  {
   "cell_type": "markdown",
   "id": "0d009e1c-e3eb-4385-a747-5e45fc1de0d3",
   "metadata": {},
   "source": [
    "**Q2:** Write a program that will accept an integer input from the user.\n",
    "1. Print the square of the number if the number is even\n",
    "2. If the number is odd, print the message “num is odd. Enter an even number” and keep the loop going (i.e prompt for input again to accept an integer from the user). \n",
    "3. If the user gives the number \"0\", then print \"Exited the program. Please try again later starting from number 1\" and the program should stop prompting for input."
   ]
  },
  {
   "cell_type": "code",
   "execution_count": 26,
   "id": "2d2bb4ed-0ba0-4949-8b19-9ab710518e58",
   "metadata": {},
   "outputs": [
    {
     "name": "stdin",
     "output_type": "stream",
     "text": [
      "Enter a number: 3\n"
     ]
    },
    {
     "name": "stdout",
     "output_type": "stream",
     "text": [
      "Number is odd. Enter an even number\n"
     ]
    },
    {
     "name": "stdin",
     "output_type": "stream",
     "text": [
      "Enter a number: 5\n"
     ]
    },
    {
     "name": "stdout",
     "output_type": "stream",
     "text": [
      "Number is odd. Enter an even number\n"
     ]
    },
    {
     "name": "stdin",
     "output_type": "stream",
     "text": [
      "Enter a number: 2\n"
     ]
    },
    {
     "name": "stdout",
     "output_type": "stream",
     "text": [
      "square is: 4\n"
     ]
    },
    {
     "name": "stdin",
     "output_type": "stream",
     "text": [
      "Enter a number: 0\n"
     ]
    },
    {
     "name": "stdout",
     "output_type": "stream",
     "text": [
      "Exited the program. Please try again later starting from number 1\n"
     ]
    }
   ],
   "source": [
    "i=1\n",
    "while (i > 0):\n",
    "    num = int(input(\"Enter a number:\"))\n",
    "    \n",
    "    if num == 0:\n",
    "        print(\"Exited the program. Please try again later starting from number 1\")\n",
    "        break\n",
    "    elif num%2 != 0:\n",
    "        print(\"Number is odd. Enter an even number\")\n",
    "    else:\n",
    "        print(\"square is:\",num**2)\n",
    "        i = i+1"
   ]
  },
  {
   "cell_type": "markdown",
   "id": "80f993ac-ad68-4fe9-8b40-25c32bee65b3",
   "metadata": {},
   "source": [
    "**Q3:** Write a program that will demonstrate the countdown. So, the moment the count is 0, the program should print a message “Happy New Year ”.\n",
    "```\n",
    "Expected example Output :\n",
    "5\n",
    "4\n",
    "3\n",
    "2\n",
    "1\n",
    "Happy New Year!!\n",
    "```"
   ]
  },
  {
   "cell_type": "code",
   "execution_count": 18,
   "id": "d0a94802-1793-40af-89df-e06ae1b42c6b",
   "metadata": {},
   "outputs": [
    {
     "name": "stdout",
     "output_type": "stream",
     "text": [
      "5\n",
      "4\n",
      "3\n",
      "2\n",
      "1\n",
      "Happy New Year!!\n"
     ]
    }
   ],
   "source": [
    "i=5\n",
    "while i>0:\n",
    "    print(i)\n",
    "    i = i-1\n",
    "    if (i == 0):\n",
    "        print(\"Happy New Year!!\")"
   ]
  }
 ],
 "metadata": {
  "kernelspec": {
   "display_name": "Python 3 (ipykernel)",
   "language": "python",
   "name": "python3"
  },
  "language_info": {
   "codemirror_mode": {
    "name": "ipython",
    "version": 3
   },
   "file_extension": ".py",
   "mimetype": "text/x-python",
   "name": "python",
   "nbconvert_exporter": "python",
   "pygments_lexer": "ipython3",
   "version": "3.12.4"
  }
 },
 "nbformat": 4,
 "nbformat_minor": 5
}
