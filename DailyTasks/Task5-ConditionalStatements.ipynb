{
 "cells": [
  {
   "cell_type": "markdown",
   "id": "81770619-d842-4551-9b36-184650429d26",
   "metadata": {},
   "source": [
    "***Q1:*** Write a Python program that asks the user for their age and prints \"You are an adult\" if the age is 18 or older; otherwise, it prints \"You are a minor’’."
   ]
  },
  {
   "cell_type": "code",
   "execution_count": 2,
   "id": "de8c04b3-8904-456d-a7b4-98bbd1d3460d",
   "metadata": {},
   "outputs": [
    {
     "name": "stdin",
     "output_type": "stream",
     "text": [
      "Enter the age:  5\n"
     ]
    },
    {
     "name": "stdout",
     "output_type": "stream",
     "text": [
      "You are a minor\n"
     ]
    }
   ],
   "source": [
    "age = int(input(\"Enter the age: \"))\n",
    "\n",
    "if(age >= 18):\n",
    "    print(\"You are an adult\")\n",
    "else:\n",
    "    print(\"You are a minor\")"
   ]
  },
  {
   "cell_type": "markdown",
   "id": "07500be9-3363-4157-a500-9837b759c7d9",
   "metadata": {},
   "source": [
    "***Q2:*** Write a program that takes a numerical grade (out of 100) as input and prints the corresponding letter grade according to the following scale:\n",
    "+ 90-100: A\n",
    "+ 80-89: B\n",
    "+ 70-79: C\n",
    "+ 60-69: D\n",
    "+ Below 60: F"
   ]
  },
  {
   "cell_type": "code",
   "execution_count": 6,
   "id": "42d0adba-b0b5-46b6-8f39-fc170e971b2f",
   "metadata": {},
   "outputs": [
    {
     "name": "stdin",
     "output_type": "stream",
     "text": [
      "Enter the numerical grade:  75\n"
     ]
    },
    {
     "name": "stdout",
     "output_type": "stream",
     "text": [
      "C\n"
     ]
    }
   ],
   "source": [
    "marks = int(input(\"Enter the numerical grade: \"))\n",
    "\n",
    "if(marks < 60):\n",
    "    print(\"F\")\n",
    "elif(60 <= marks <=69):\n",
    "    print(\"D\")\n",
    "elif(70 <= marks <=79):\n",
    "    print(\"C\")\n",
    "elif(80 <= marks <=89):\n",
    "    print(\"B\")\n",
    "elif(90 <= marks <=100):\n",
    "    print(\"A\")\n",
    "else:\n",
    "    print(\"Numerical grades should be in range of 1 to 100\")"
   ]
  },
  {
   "cell_type": "markdown",
   "id": "036e0dd0-57b6-45a1-8dcc-4b30d3830d25",
   "metadata": {},
   "source": [
    "***Q3:*** Write a program that asks the user for three numbers and prints the maximum of the three."
   ]
  },
  {
   "cell_type": "code",
   "execution_count": 1,
   "id": "84bde345-f0f5-46bf-b392-58d3eb75a03b",
   "metadata": {},
   "outputs": [
    {
     "name": "stdin",
     "output_type": "stream",
     "text": [
      "Enter first number:  23\n",
      "Enter second number:  12\n",
      "Enter third number:  45\n"
     ]
    },
    {
     "name": "stdout",
     "output_type": "stream",
     "text": [
      "45 is the biggest number\n"
     ]
    }
   ],
   "source": [
    "num1 = int(input(\"Enter first number: \"))\n",
    "num2 = int(input(\"Enter second number: \"))\n",
    "num3 = int(input(\"Enter third number: \"))\n",
    "\n",
    "if(num1 >= num2):\n",
    "    if(num1 >= num3):\n",
    "        print(f\"{num1} is the biggest number\")\n",
    "    else:\n",
    "        print(f\"{num3} is the biggest number\")\n",
    "elif(num2 >= num1):\n",
    "    if(num2 >= num3):\n",
    "        print(f\"{num2} is the biggest number\")\n",
    "    else:\n",
    "        print(f\"{num3} is the biggest number\")"
   ]
  },
  {
   "cell_type": "markdown",
   "id": "cf1b3a36-67d8-4a0c-ae78-319e82ada63b",
   "metadata": {},
   "source": [
    "***Q4:*** Write a program that asks the user for a temperature (in Celsius) and prints \"It's freezing\" if the temperature is below 0, \"It's cool\" if it's between 0 and 10, \"It's warm\" if it's between 10 and 20, and \"It's hot\" if it's above 20"
   ]
  },
  {
   "cell_type": "code",
   "execution_count": 67,
   "id": "d26e5383-4ef5-4677-b5b4-192f613123f5",
   "metadata": {},
   "outputs": [
    {
     "name": "stdin",
     "output_type": "stream",
     "text": [
      "Enter temperature in celsius(10c/12.4C/-2C) :  12c\n"
     ]
    },
    {
     "name": "stdout",
     "output_type": "stream",
     "text": [
      "It's warm\n"
     ]
    }
   ],
   "source": [
    "temp = input(\"Enter temperature in celsius(10c/12.4C/-2C) : \")\n",
    "if (temp.upper()[-1]=='C'):\n",
    "    temp1 = int(temp.upper().replace('C',''))\n",
    "    if (temp1<0):\n",
    "        print(\"It's freezing\")\n",
    "    elif (0 <= temp1 <=10):\n",
    "        print(\"It's cool\")\n",
    "    elif (10 <= temp1 <=20):\n",
    "        print(\"It's warm\")\n",
    "    elif (temp1 > 20):\n",
    "        print(\"It's hot\")\n",
    "else:\n",
    "    print(\"please enter temperature in celsius\")"
   ]
  },
  {
   "cell_type": "markdown",
   "id": "86b94e95-ed7f-4f1f-9c1d-5da6df77f89d",
   "metadata": {},
   "source": [
    "***Q5:*** Write python Program for factorial of the give number"
   ]
  },
  {
   "cell_type": "code",
   "execution_count": 28,
   "id": "d7f9935c-b8f2-480a-8bcd-8519836188cc",
   "metadata": {},
   "outputs": [
    {
     "name": "stdin",
     "output_type": "stream",
     "text": [
      "Enter a number:  5\n"
     ]
    },
    {
     "name": "stdout",
     "output_type": "stream",
     "text": [
      "Factorial of 5 is:  120\n"
     ]
    }
   ],
   "source": [
    "import math\n",
    "\n",
    "num = int(input(\"Enter a number: \"))\n",
    "if (num > 0):\n",
    "    print(f\"Factorial of {num} is: \",math.factorial(num))\n",
    "else:\n",
    "    print(\"Number should be a positive to find factorial\")"
   ]
  },
  {
   "cell_type": "markdown",
   "id": "b055abb6-5087-441c-8df4-046ed888e345",
   "metadata": {},
   "source": [
    "***Q6:*** Write a program that asks the user for a number and prints \"In range\" if the number is between 10 and 20 (inclusive), and \"Out of range\" otherwise.."
   ]
  },
  {
   "cell_type": "code",
   "execution_count": 31,
   "id": "84b8de55-af9b-4405-b53c-41bde8a98955",
   "metadata": {},
   "outputs": [
    {
     "name": "stdin",
     "output_type": "stream",
     "text": [
      "Enter a number:  20\n"
     ]
    },
    {
     "name": "stdout",
     "output_type": "stream",
     "text": [
      "In range\n"
     ]
    }
   ],
   "source": [
    "num = int(input(\"Enter a number: \"))\n",
    "if (10 <= num <=20):\n",
    "    print(\"In range\")\n",
    "else:\n",
    "    print(\"Out of range\")"
   ]
  },
  {
   "cell_type": "markdown",
   "id": "798bfd9f-0c6a-41b3-aacc-3eee11afeed9",
   "metadata": {},
   "source": [
    "***Q7:*** Write a Python program to add 'ing' at the end of a given string (string length should be equal to or more than 3). If the given string already ends with 'ing' then add 'ly' instead.If the string length of the given string is less than 3, leave it unchanged"
   ]
  },
  {
   "cell_type": "code",
   "execution_count": 42,
   "id": "50e873ba-921f-4d2a-88df-9b7a3a8b04d2",
   "metadata": {},
   "outputs": [
    {
     "name": "stdin",
     "output_type": "stream",
     "text": [
      "enter a string hello\n"
     ]
    },
    {
     "name": "stdout",
     "output_type": "stream",
     "text": [
      "helloing\n"
     ]
    }
   ],
   "source": [
    "string = input(\"enter a string\")\n",
    "if (len(string) >= 3):\n",
    "    if(string.endswith('ing')):\n",
    "        print(string + ''.join('ly'))\n",
    "    else:\n",
    "        print(string + ''.join('ing'))\n",
    "else:\n",
    "    print(string)"
   ]
  },
  {
   "cell_type": "markdown",
   "id": "6b675466-7844-4f1c-8e23-c5959d91ddba",
   "metadata": {},
   "source": [
    "***Q8:*** Manoj Kumar has family and friends. Help him remind them who is who. Given a string with a name, return the relation of that person to Manoj Kumar.,\n",
    " *Person Relation*\n",
    " *Shiva father ,Letha mother, Tarun brother,Kavitha sister ,,Stranger.*"
   ]
  },
  {
   "cell_type": "code",
   "execution_count": 44,
   "id": "f222a1da-8402-4e44-ae24-153190f69442",
   "metadata": {},
   "outputs": [
    {
     "name": "stdin",
     "output_type": "stream",
     "text": [
      "enter a name:  tarun\n"
     ]
    },
    {
     "name": "stdout",
     "output_type": "stream",
     "text": [
      "Brother\n"
     ]
    }
   ],
   "source": [
    "name = input(\"enter a name: \")\n",
    "\n",
    "if (name.lower() == 'shiva'):\n",
    "    print(\"Father\")\n",
    "elif (name.lower() == 'letha'):\n",
    "    print(\"Mother\")\n",
    "elif (name.lower() == 'tarun'):\n",
    "    print(\"Brother\")\n",
    "elif (name.lower() == 'kavitha'):\n",
    "    print(\"sister\")\n",
    "else:\n",
    "    print(\"Stranger\")"
   ]
  },
  {
   "cell_type": "markdown",
   "id": "703d2f98-964f-4d11-901d-86f3869055d0",
   "metadata": {},
   "source": [
    "***Q9:*** Write a python program that takes in a word and determines whether or not it is   plural. A plural word is one that ends with “s”"
   ]
  },
  {
   "cell_type": "code",
   "execution_count": 45,
   "id": "f75b0f95-0500-4022-9029-16102a5e8586",
   "metadata": {},
   "outputs": [
    {
     "name": "stdin",
     "output_type": "stream",
     "text": [
      "Enter a word:  uses\n"
     ]
    },
    {
     "name": "stdout",
     "output_type": "stream",
     "text": [
      "It is plural\n"
     ]
    }
   ],
   "source": [
    "word = input(\"Enter a word: \")\n",
    "if (word.lower().endswith('s')):\n",
    "    print(\"It is plural\")\n",
    "else:\n",
    "    print('It is singular')"
   ]
  },
  {
   "cell_type": "markdown",
   "id": "6df0eb65-66f0-4e34-91aa-b9d254c99ffa",
   "metadata": {},
   "source": [
    "***Q10:*** A company decided to give a bonus of 5% to employees if his/her year of service is more than 5 years.Ask user for their salary and year of service and print the net bonus amount."
   ]
  },
  {
   "cell_type": "code",
   "execution_count": 47,
   "id": "c48aca88-8356-4e15-840c-94482497c2f1",
   "metadata": {},
   "outputs": [
    {
     "name": "stdin",
     "output_type": "stream",
     "text": [
      "Enter your salary:  95000\n",
      "Enter year of experience:  6\n"
     ]
    },
    {
     "name": "stdout",
     "output_type": "stream",
     "text": [
      "your bonus is :  4750.0\n"
     ]
    }
   ],
   "source": [
    "salary = int(input(\"Enter your salary: \"))\n",
    "year_of_exp = int(input(\"Enter year of experience: \"))\n",
    "\n",
    "if (year_of_exp > 5):\n",
    "    print(\"your bonus is : \",salary/100*5)"
   ]
  },
  {
   "cell_type": "markdown",
   "id": "b2103edc-9d53-4655-bfe4-b9f458ea3d80",
   "metadata": {},
   "source": [
    "***Q11:*** Take values of length and breadth of a rectangle from the user and check if it is square or not."
   ]
  },
  {
   "cell_type": "code",
   "execution_count": 49,
   "id": "475a4117-b3aa-47e0-ab61-58452bf140c1",
   "metadata": {},
   "outputs": [
    {
     "name": "stdin",
     "output_type": "stream",
     "text": [
      "Enter length:  4\n",
      "Enter breadth:  4\n"
     ]
    },
    {
     "name": "stdout",
     "output_type": "stream",
     "text": [
      "It is a square!\n"
     ]
    }
   ],
   "source": [
    "l = int(input(\"Enter length: \"))\n",
    "b = int(input(\"Enter breadth: \"))\n",
    "if (l==b):\n",
    "    print(\"It is a square!\")\n",
    "else:\n",
    "    print(\"It is not a square\")"
   ]
  },
  {
   "cell_type": "markdown",
   "id": "f5bbd7d0-067d-4de3-b1b3-b68b4e1282ca",
   "metadata": {},
   "source": [
    "***Q12:*** Write a program to check whether a person is eligible for voting or not  (voting age>=18)."
   ]
  },
  {
   "cell_type": "code",
   "execution_count": 50,
   "id": "99e3ec0b-2ffe-4901-8a33-22f74344df78",
   "metadata": {},
   "outputs": [
    {
     "name": "stdin",
     "output_type": "stream",
     "text": [
      "Enter age:  21\n"
     ]
    },
    {
     "name": "stdout",
     "output_type": "stream",
     "text": [
      "You are eligible for voting!\n"
     ]
    }
   ],
   "source": [
    "age = int(input(\"Enter age: \"))\n",
    "if (age >= 18):\n",
    "    print(\"You are eligible for voting!\")\n",
    "else:\n",
    "    print(\"you are not eligible for voting\")"
   ]
  },
  {
   "cell_type": "markdown",
   "id": "404d9496-2417-4541-a7b1-36659b21b19e",
   "metadata": {},
   "source": [
    "***Q13:*** Accept three sides of the triangle and check whether the triangle is possible or not.(Triangle is possible only when the sum of any two sides is greater than 3 rd side)."
   ]
  },
  {
   "cell_type": "code",
   "execution_count": 52,
   "id": "65bda81a-0616-4cba-8a93-36cdd0ec0cf1",
   "metadata": {},
   "outputs": [
    {
     "name": "stdin",
     "output_type": "stream",
     "text": [
      "Enter first side:  5\n",
      "Enter second side:  3\n",
      "Enter third side:  4\n"
     ]
    },
    {
     "name": "stdout",
     "output_type": "stream",
     "text": [
      "Triangle is possible\n"
     ]
    }
   ],
   "source": [
    "a = int(input(\"Enter first side: \"))\n",
    "b = int(input(\"Enter second side: \"))\n",
    "c = int(input(\"Enter third side: \"))\n",
    "\n",
    "if(a+b>c and a+c>b and b+c>a):\n",
    "    print(\"Triangle is possible\")\n",
    "else:\n",
    "    print(\"triangle is not possible\")"
   ]
  },
  {
   "cell_type": "markdown",
   "id": "f9b48e2d-42b2-4e66-85bd-875a1c899fe5",
   "metadata": {},
   "source": [
    "***Q14:*** Write a Python program that prints all the numbers from  0 to 6 except 3 and 6."
   ]
  },
  {
   "cell_type": "code",
   "execution_count": 60,
   "id": "d151ebd0-1985-4684-bfab-95b3cea8dacd",
   "metadata": {},
   "outputs": [
    {
     "data": {
      "text/plain": [
       "[0, 1, 2, 4, 5]"
      ]
     },
     "execution_count": 60,
     "metadata": {},
     "output_type": "execute_result"
    }
   ],
   "source": [
    "num = list(range(7))\n",
    "num[0:3]+num[4:6]"
   ]
  },
  {
   "cell_type": "markdown",
   "id": "e421b972-037c-4959-9792-09084c52d9f2",
   "metadata": {},
   "source": [
    "***Q15:*** Take String and check whether the string is palindrome or not"
   ]
  },
  {
   "cell_type": "code",
   "execution_count": 65,
   "id": "0fd21e28-5d98-470f-87fb-74f95b72adb0",
   "metadata": {},
   "outputs": [
    {
     "name": "stdin",
     "output_type": "stream",
     "text": [
      "Enter a string:  madam\n"
     ]
    },
    {
     "name": "stdout",
     "output_type": "stream",
     "text": [
      "It is a palindrome\n"
     ]
    }
   ],
   "source": [
    "string = input(\"Enter a string: \")\n",
    "if (string == string[::-1]):\n",
    "    print(\"It is a palindrome\")\n",
    "else:\n",
    "    print(\"It is not a palindrome\")"
   ]
  },
  {
   "cell_type": "code",
   "execution_count": null,
   "id": "60d9abde-17b5-4d11-b170-1a12f7324cc0",
   "metadata": {},
   "outputs": [],
   "source": []
  }
 ],
 "metadata": {
  "kernelspec": {
   "display_name": "Python 3 (ipykernel)",
   "language": "python",
   "name": "python3"
  },
  "language_info": {
   "codemirror_mode": {
    "name": "ipython",
    "version": 3
   },
   "file_extension": ".py",
   "mimetype": "text/x-python",
   "name": "python",
   "nbconvert_exporter": "python",
   "pygments_lexer": "ipython3",
   "version": "3.12.4"
  }
 },
 "nbformat": 4,
 "nbformat_minor": 5
}
