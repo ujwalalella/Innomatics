{
 "cells": [
  {
   "cell_type": "markdown",
   "id": "d3552645-6ddd-47c6-96c6-316ed0228e11",
   "metadata": {},
   "source": [
    "**Q1:** \n",
    "1. Write a program that checks if a given number is both divisible by 2 and 3. Print True if it is, otherwise, print False.\n",
    "2. Given an input, classify it into the following categories:\n",
    "+ Palindrome: A word/number that reads the same backward as forward.\n",
    "+ Anagram: A word formed by rearranging the letters of another word.\n",
    "+ Armstrong: A number that is the sum of its own digits each raised to the power of the number of digits in the number.\n"
   ]
  },
  {
   "cell_type": "code",
   "execution_count": 2,
   "id": "df9dfab1-8d5d-4993-b57c-d095a4c481ea",
   "metadata": {},
   "outputs": [
    {
     "name": "stdin",
     "output_type": "stream",
     "text": [
      "Enter a number: 6\n"
     ]
    },
    {
     "name": "stdout",
     "output_type": "stream",
     "text": [
      "True\n"
     ]
    }
   ],
   "source": [
    "num = int(input(\"Enter a number:\"))\n",
    "for i in [num]:\n",
    "    if i%2 == 0 and i%3 == 0:\n",
    "        print(\"True\")\n",
    "    else:\n",
    "        print(\"False\")"
   ]
  },
  {
   "cell_type": "code",
   "execution_count": 39,
   "id": "bb251324-f68a-41fb-8c53-00295bf808e0",
   "metadata": {},
   "outputs": [
    {
     "name": "stdin",
     "output_type": "stream",
     "text": [
      "Enter a word or number:  silent\n"
     ]
    },
    {
     "name": "stdout",
     "output_type": "stream",
     "text": [
      "Palindrome: False\n"
     ]
    },
    {
     "name": "stdin",
     "output_type": "stream",
     "text": [
      "Enter another word to check for Anagram:  listen\n"
     ]
    },
    {
     "name": "stdout",
     "output_type": "stream",
     "text": [
      "Anagram: True\n"
     ]
    }
   ],
   "source": [
    "def palindrome(str1):\n",
    "    return str1==str1[::-1]\n",
    "    \n",
    "def anagram(str2,str3):\n",
    "    return sorted(str2)==sorted(str3)\n",
    "    \n",
    "def armstrong(num):\n",
    "    return sum(int(digit)**len(str(num)) for digit in str(num)) == num\n",
    "    \n",
    "user_input = input(\"Enter a word or number: \")\n",
    "\n",
    "# Classification\n",
    "if user_input.isdigit():  # If the input is a number\n",
    "    num = int(user_input)\n",
    "    print(f\"Palindrome: {palindrome(num)}\")\n",
    "    print(f\"Armstrong: {armstrong(num)}\")\n",
    "    \n",
    "else:  # If the input is a word\n",
    "    print(f\"Palindrome: {palindrome(user_input)}\")\n",
    "    second_word = input(\"Enter another word to check for Anagram: \")\n",
    "    print(f\"Anagram: {anagram(user_input, second_word)}\")\n",
    "\n",
    "    "
   ]
  },
  {
   "cell_type": "markdown",
   "id": "694b3de5-4fbd-4bd6-adb5-4b4dd649add8",
   "metadata": {},
   "source": [
    "**Q2:**\n",
    "```\n",
    "A. Given a sentence, \n",
    "   sentence = “The batter with the butter is the batter that is better!”\n",
    "   Find the length of the longest word. If multiple words have the same length, return the first one.\n",
    "\n",
    "B. Given a list of numbers, \n",
    "   numbers = [2, 3, 5, 7, 11, 13, 17, 19, 23, 29]\n",
    "   Create a new list containing only the prime numbers using list comprehension.\n",
    "```\n"
   ]
  },
  {
   "cell_type": "code",
   "execution_count": 31,
   "id": "f0aa5e57-29cb-416d-abeb-4226757ff97d",
   "metadata": {},
   "outputs": [
    {
     "name": "stdout",
     "output_type": "stream",
     "text": [
      "better!\n",
      "------------------------------------------------------------\n",
      "batter\n"
     ]
    }
   ],
   "source": [
    "sentence = \"The batter with the butter is the batter that is better!\"\n",
    "word = sentence.split()[0]\n",
    "\n",
    "for i in sentence.split():\n",
    "    if (len(word) < len(i)):\n",
    "        word = ''.join(i)\n",
    "\n",
    "print(word)\n",
    "\n",
    "print('---'*20)\n",
    "#or if we remove '!'\n",
    "\n",
    "sentence = \"The batter with the butter is the batter that is better!\"\n",
    "word = sentence.split()[0]\n",
    "\n",
    "for i in sentence.split():\n",
    "    if (len(word.replace('!','')) < len(i.replace('!',''))):\n",
    "        word = ''.join(i.replace('!',''))\n",
    "\n",
    "print(word)"
   ]
  },
  {
   "cell_type": "code",
   "execution_count": 64,
   "id": "136a79c7-0abf-4b3d-a518-d2dbb4a7d3f9",
   "metadata": {},
   "outputs": [
    {
     "data": {
      "text/plain": [
       "[2, 3, 5, 7, 11, 13, 17, 19, 23, 29]"
      ]
     },
     "execution_count": 64,
     "metadata": {},
     "output_type": "execute_result"
    }
   ],
   "source": [
    "numbers = [2, 3, 5, 7, 11, 13, 17, 19, 23, 29]\n",
    "[num for num in numbers if num == 2 or not[i for i in range(2,num) if num % i == 0]]"
   ]
  },
  {
   "cell_type": "markdown",
   "id": "cbaf2d71-e2ec-4860-9189-d38b79a9daa3",
   "metadata": {},
   "source": [
    "**Q3:**\n",
    "```\n",
    "A. Create a dictionary where keys are integers from 1 to 10, and values are their squares. Print only the values that are odd.\n",
    "B. Given two dictionaries, \n",
    "   dict1 = {'a': 1, 'b': 2, 'c': 3}\n",
    "   dict2 = {'b': 4, 'c': 5, 'd': 6}\n",
    "   Merge them into a new dictionary. If keys overlap, sum their values.\n",
    "```"
   ]
  },
  {
   "cell_type": "code",
   "execution_count": 2,
   "id": "866be659-aa0d-495a-9e19-7dc634a1b568",
   "metadata": {},
   "outputs": [
    {
     "name": "stdout",
     "output_type": "stream",
     "text": [
      "1\n",
      "9\n",
      "25\n",
      "49\n",
      "81\n"
     ]
    }
   ],
   "source": [
    "dict1 = {num: num**2 for num in range(1, 11)}\n",
    "for i in dict1.values():\n",
    "    if (i%2 != 0):\n",
    "        print(i)"
   ]
  },
  {
   "cell_type": "code",
   "execution_count": 12,
   "id": "58af2ed2-9327-496a-adc1-c5cbbb127144",
   "metadata": {},
   "outputs": [
    {
     "name": "stdout",
     "output_type": "stream",
     "text": [
      "{'a': 1, 'b': 6, 'c': 8, 'd': 6}\n"
     ]
    }
   ],
   "source": [
    "dict1 = {'a': 1, 'b': 2, 'c': 3}\n",
    "dict2 = {'b': 4, 'c': 5, 'd': 6}\n",
    "merged_dict = {}\n",
    "for key in dict1 | dict2:\n",
    "    merged_dict[key] = dict1.get(key, 0) + dict2.get(key, 0)\n",
    "print(merged_dict)"
   ]
  },
  {
   "cell_type": "markdown",
   "id": "e452550f-e97c-4903-b6ce-d06e16fdd191",
   "metadata": {},
   "source": [
    "**Q4:**\n",
    "```\n",
    "A. Write a program that counts the number of unique characters in s = \"programming\".\n",
    "B. Using list comprehension,\n",
    "   find the sum of all the even numbers in the list of numbers from 1 to 10.\n",
    "```"
   ]
  },
  {
   "cell_type": "code",
   "execution_count": 21,
   "id": "21ca561e-4613-49d1-9265-3b912303e740",
   "metadata": {},
   "outputs": [
    {
     "name": "stdout",
     "output_type": "stream",
     "text": [
      "8\n"
     ]
    }
   ],
   "source": [
    "s = \"programming\"\n",
    "unique_characters = set(s)\n",
    "count = len(unique_characters)\n",
    "print(count)"
   ]
  },
  {
   "cell_type": "code",
   "execution_count": 25,
   "id": "daf6aee8-2de7-4583-8a61-e60d6932a0ab",
   "metadata": {},
   "outputs": [
    {
     "data": {
      "text/plain": [
       "30"
      ]
     },
     "execution_count": 25,
     "metadata": {},
     "output_type": "execute_result"
    }
   ],
   "source": [
    "sum([i for i in range(1,11) if i%2 == 0])"
   ]
  },
  {
   "cell_type": "markdown",
   "id": "9293aa70-3087-4e04-b027-cbb84ebf01d2",
   "metadata": {},
   "source": [
    "**Q5:**\n",
    "```\n",
    "A. Given a list of words.\n",
    "   words = [\"apple\", \"banana\", \"orange\", \"grape\"]\n",
    "   Create a dictionary using dictionary comprehension where keys are the words, and values are the lengths of the words.\n",
    "B. Given a list of numbers, \n",
    "   numbers = [12, 18, 25, 8, 15, 10]\n",
    "   Find and print the elements greater than the average of the list.\n",
    "```"
   ]
  },
  {
   "cell_type": "code",
   "execution_count": 29,
   "id": "9d56e835-f3f0-4913-8061-1a0be99370cd",
   "metadata": {},
   "outputs": [
    {
     "data": {
      "text/plain": [
       "{'apple': 5, 'banana': 6, 'orange': 6, 'grape': 5}"
      ]
     },
     "execution_count": 29,
     "metadata": {},
     "output_type": "execute_result"
    }
   ],
   "source": [
    "words = [\"apple\", \"banana\", \"orange\", \"grape\"]\n",
    "{i : len(i) for i in words}"
   ]
  },
  {
   "cell_type": "code",
   "execution_count": 36,
   "id": "8c042737-5ec4-430c-8e59-8c029f8e915f",
   "metadata": {},
   "outputs": [
    {
     "name": "stdout",
     "output_type": "stream",
     "text": [
      "[18, 25, 15]\n"
     ]
    }
   ],
   "source": [
    "numbers = [12, 18, 25, 8, 15, 10]\n",
    "list1=[]\n",
    "avg = sum(numbers) / len(numbers)\n",
    "for i in numbers:\n",
    "    if i>avg:\n",
    "        list1.append(i)\n",
    "print(list1)"
   ]
  },
  {
   "cell_type": "code",
   "execution_count": null,
   "id": "c16bc9c5-9daf-4307-857a-e95567c29279",
   "metadata": {},
   "outputs": [],
   "source": []
  }
 ],
 "metadata": {
  "kernelspec": {
   "display_name": "Python 3 (ipykernel)",
   "language": "python",
   "name": "python3"
  },
  "language_info": {
   "codemirror_mode": {
    "name": "ipython",
    "version": 3
   },
   "file_extension": ".py",
   "mimetype": "text/x-python",
   "name": "python",
   "nbconvert_exporter": "python",
   "pygments_lexer": "ipython3",
   "version": "3.12.4"
  }
 },
 "nbformat": 4,
 "nbformat_minor": 5
}
